{
 "cells": [
  {
   "cell_type": "markdown",
   "metadata": {},
   "source": [
    "# Final Project for Statistical Learning 2022\n",
    "In this project, you are going to analyze some real-world datasets using machine learning algorithms that learned in this semester. "
   ]
  },
  {
   "attachments": {},
   "cell_type": "markdown",
   "metadata": {},
   "source": [
    "## Details\n",
    "In supervised machine learning ,regression and classification are the two tasks that are mainly studied. \n",
    "\n",
    "* For regression datasets, `Mean Squared Error` (MSE) is usually used to evaluate the performances of regressors. And in this semester, we have learned regression algorithms including:\n",
    "  + Linear Regression\n",
    "  + Support Vectore Regression\n",
    "  + Decision Tree Regression\n",
    "  + Random Forest Regression\n",
    "  + Gradient Boosting Regression\n",
    "  + Multi-Layer Perceptron Regression\n",
    "  \n",
    "* For classification, `Accurcary` is usually used to evaluate the performances of classifiers. And in this semester, we have learned classification algorithms including:\n",
    "  + Logistic Regression \n",
    "  + Support Vector Machine\n",
    "  + Linear Discriminant Analysis\n",
    "  + Decision Tree Classification (Trimming is Optional)\n",
    "  + Random Forest Classification\n",
    "  + Adaboost Classification \n",
    "  + Multi-Layer Perceptron Classification\n",
    "\n",
    "### Tasks\n",
    "\n",
    "In this project, each of the two tasks is provided with 4 real-world datasets collected from `UCI machine learning repository`, where you are going to use what you learn to explore the relationships between input features and output labels. Below is the detailed requirements.\n",
    "\n",
    "1. Results Summary:\n",
    "for each dataset, choose `3` algorithms to run and summarize the results.\n",
    "2. Results Comparison:\n",
    "for each dataset, brain storm why your algorithms performs differently, e.g.\n",
    "  + the algorithm may suffer from the curse of dimensionality;\n",
    "  + some algorithms take a lot of time to run on XXX dataset;\n",
    "  + too many categorical variables may affect the performace of a certain algorithm;\n",
    "3. Parameter Analysis:\n",
    "choose one dataset and one algorithm, explore the relationship between the parameter and corresponding performances. To be specific, you need to run one certain model with different parameters on a dataset and record the test errors. \n",
    "Then you need to find out the best performance and its corresponding parameter. e.g.\n",
    "  + On Abalone dataset, the test accuracy of SVM with the bandwidth parameter $\\gamma = 0.1, 1, 10$ are $80\\%, 90\\%, 70\\%$ respectively. Therefore, the optimal value of $\\gamma$ is near $1$ and the optimal accuracy is $90\\%$.\n",
    "\n",
    "### Tips:\n",
    "1. In your codes, you can copy and use the codes we provided in `Tutorials` to implement the algorithms. You are also encouraged to write your own modules or class. Note that you are not allowed to use the built-in package `sklearn` to implement the algorithms.\n",
    "2. The projects are given with the following structure. The `demo_codes.py` provides an example employing `Random Forest Classifier` on `Abalone` classification dataset. You can use the demo to help coding more conveniently. In our demo, we directly use sklearn package to build the random forest model but you aren't allowed to do it in your projects. The `demo_report.docx` provides a Table for your results. After running your codes and obtain the results, you can fill in the blank in the Table about `The 3 Algorithms You Choose` and `Their Performances` on each dataset. Subsequently, the performances comparison and parameter tuning should also be in the word file.\n",
    "  + Project\n",
    "      + datasets\n",
    "          + data_name.csv\n",
    "      + Project_ReadMe.ipnb\n",
    "      + demo_codes.py\n",
    "      + demo_report.docx\n",
    "3. In your final project, you should upload a folder consisting an executable Python `.py` file (JupyterNoteBook is also available) and a report demonstrating your table for results, results comparsion and parameter analysis. Besides the `docx`, you can also use `Latex`, or `Jupyter` to finish your report."
   ]
  },
  {
   "cell_type": "markdown",
   "id": "1169cbbc",
   "metadata": {},
   "source": []
  }
 ],
 "metadata": {
  "kernelspec": {
   "display_name": "Python 3",
   "language": "python",
   "name": "python3"
  },
  "language_info": {
   "codemirror_mode": {
    "name": "ipython",
    "version": 3
   },
   "file_extension": ".py",
   "mimetype": "text/x-python",
   "name": "python",
   "nbconvert_exporter": "python",
   "pygments_lexer": "ipython3",
   "version": "3.7.2"
  }
 },
 "nbformat": 4,
 "nbformat_minor": 5
}

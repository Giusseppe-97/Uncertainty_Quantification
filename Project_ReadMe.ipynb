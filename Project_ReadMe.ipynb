{
 "cells": [
  {
   "attachments": {},
   "cell_type": "markdown",
   "id": "37cf0191",
   "metadata": {},
   "source": [
    "# UQ final project\n",
    "\n",
    "In this project, I am first going to expain the theory behind the Galerkin and the collocation methods. Then, I am going to present three examples, solve them, and discuss my results. Finally, I am going to explain the codes so that the readers can recreate those results.\n",
    "\n",
    "  + This project is written in Jupyter Notebook in order to be as interactive and visual as possible. The codes for both the book examples and the independent example intended to have a Matlab alternative. \n",
    "\n",
    "Ideally, the repository should work on any computer that runs Jupyter Notebook. Even if the main codes are witten for pc, when the repository is added to a mac it can be easily addapted. \n",
    "\n",
    "## Motivation\n",
    "\n",
    "For the submission of this project, I was encouraged to not only find a solution to one Stochastic Galerkin problem and one Collocation Interpolation problem but to understand the undergoing theory behind them and also recreate a complex example of the Galerkin Method for Poisson's equation. Personally, I wanted to get a better notion of when to use each technique and how well they can develop different codes at least to find simple results. In the future, I would like to be able to employ this finite element method if I ever encounter such problems. Creating the Github page was an added value for the project. Even if this took me some weekend time, I wanted to have something tangible accessible to others and not another report in my University Dropbox folder.       \n",
    "\n",
    "## Getting started\n",
    "\n",
    "Check the [installation](pages/installation/installation.html) to learn how to clone the repository.\n",
    "\n",
    "Check the [demos](pages/demos/demos.html) to see:\n",
    "+ Theory.\n",
    "  + Galerkin Method\n",
    "  + Collocation Method\n",
    "+ Analysis.\n",
    "  + Problem 1. Solve a differential equation with uniformed distributed alpha and beta using the Stochastic Galerkin Method.\n",
    "  + Problem 2. Solve problem 1 using the Collocation Method.\n",
    "  + Problem 3. Solve Poisson's equation using the Galerkin  Method. \n",
    "+ Analysis.\n",
    "  + Python code.\n",
    "  + Matlab code."
   ]
  },
  {
   "cell_type": "markdown",
   "id": "1169cbbc",
   "metadata": {},
   "source": []
  }
 ],
 "metadata": {
  "kernelspec": {
   "display_name": "Python 3.10.5 64-bit",
   "language": "python",
   "name": "python3"
  },
  "language_info": {
   "codemirror_mode": {
    "name": "ipython",
    "version": 3
   },
   "file_extension": ".py",
   "mimetype": "text/x-python",
   "name": "python",
   "nbconvert_exporter": "python",
   "pygments_lexer": "ipython3",
   "version": "3.10.5"
  },
  "vscode": {
   "interpreter": {
    "hash": "93028d5495cf3fdad3791cfb45569ed1ffef5b94a8e8037ba1bdda77d837769f"
   }
  }
 },
 "nbformat": 4,
 "nbformat_minor": 5
}

{
 "cells": [
  {
   "cell_type": "markdown",
   "metadata": {},
   "source": [
    "Jose Navarro, Fabio Mistrangelo, Jakub Nail"
   ]
  },
  {
   "cell_type": "markdown",
   "metadata": {},
   "source": [
    "# 1. Regression\n",
    "\n",
    "## 1.1 Generate Synthetic Data\n",
    "\n",
    "We generate a synthetic data sampled from a sparse linear regression model. To be specific, the input $x = (x_1, \\ldots, x_6)$ has six variables but the output $y$ is the linear combination of only the first two variables $x_1$ and $x_2$. Mathematically speaking, the sparse linear regression model is given by\n",
    "\\begin{align*}\n",
    "y = x_1 + 3x_2 + 2 + \\varepsilon,\n",
    "\\end{align*}\n",
    "where $\\varepsilon$ is the noise from the normal distribution $\\mathcal{N}(0,0.1)$. To represent it in the matrix form, we denote as $w = (1,3,0,0,0,0)^{\\top}$ and $b = 2$. Then we get\n",
    "\\begin{align*}\n",
    "y = w^{\\top} x + b + \\varepsilon,\n",
    "\\end{align*}"
   ]
  },
  {
   "cell_type": "code",
   "execution_count": 1,
   "metadata": {},
   "outputs": [],
   "source": [
    "import numpy as np\n",
    "from sklearn.model_selection import train_test_split\n",
    "\n",
    "def simulation(m):\n",
    "    \"\"\"\n",
    "    Generate a specified number of samples according to the sparse linear model.\n",
    "\n",
    "    Parameters\n",
    "    -----\n",
    "    m : num_samples\n",
    "\n",
    "    Returns\n",
    "    -----\n",
    "    x (matrix, m*num_variables) : Input or features \n",
    "    y (matrix, m*1): Output or labels\n",
    "    \"\"\"\n",
    "\n",
    "    # Generate independent and identically distributed samples as inputs.\n",
    "    x1 = np.random.normal(3,1,[m,1])\n",
    "    x2 = np.random.uniform(0,1,[m,1])\n",
    "    x3 = np.random.normal(1,4,[m,1])\n",
    "    x4 = np.random.normal(-1,1,[m,1])\n",
    "    x5 = np.random.normal(0,1,[m,1])\n",
    "    x6 = np.random.uniform(-1,1,[m,1])\n",
    "    # Generate the true outputs according to the sparse linear model.\n",
    "    y = x1 + 3*x2 + 2 + np.random.normal(0,0.1,[m,1])\n",
    "    return np.hstack([x1,x2,x3,x4,x5,x6]), y\n",
    "\n",
    "# Generate 5000 samples and split them into training and test dataset.\n",
    "X, y = simulation(5000)\n",
    "X_train, X_test, y_train, y_test = train_test_split(X, y, test_size=0.3, random_state=2022)"
   ]
  },
  {
   "cell_type": "markdown",
   "metadata": {},
   "source": [
    "## 1.2 Simulation Experiments\n",
    "\n",
    "Next we will fit the ridge regression and lasso to the simulation data.\n",
    "To be specific, we will follow the paradiam as belows:\n",
    "\n",
    "1. Implement the ridge regression and lasso algorithm in the form of ``class``. \n",
    "2. Fit the models with training samples, (i.e. ``X_train`` and ``y_train``)\n",
    "3. Prediect the outputs of test data ``X_test``.\n",
    "4. Evaluate the perfomance of the fitted model by calculating the MSE between the predictions and true outputs ``y_test``."
   ]
  },
  {
   "cell_type": "markdown",
   "metadata": {},
   "source": [
    "\n",
    "### 1.2.1 Ridge Regression \n",
    "\n",
    "In the following ``RidgeRegression`` class, we aim to implement the ridge regression algorithm including the functions to fit the model with training data and predict the output for test data.\n",
    "\n",
    "Please type in the codes in the specified space to complete the construction of the class ``Lasso``."
   ]
  },
  {
   "cell_type": "code",
   "execution_count": 2,
   "metadata": {},
   "outputs": [],
   "source": [
    "class RidgeRegression():\n",
    "    '''\n",
    "    This is a class for ridge regression algorithm.\n",
    "    \n",
    "    The class contains the hyper parameters of the ridge regression algorithm as attributes, such as the regurization \n",
    "    parameter(Lambda).\n",
    "    It also contains the functions for initializing the class, calculating the loss, fitting the ridge regression \n",
    "    model and use the fitted model to predict test samples.\n",
    "    \n",
    "    Attributes:\n",
    "        lr:        learning rate of gradient descent\n",
    "        Lambda:    regularization parameter for L_2 penalty\n",
    "        max_itr:   maximum number of iteration for gradient descent\n",
    "        tol:       if the change in loss is smaller than tol, then we stop iteration\n",
    "        W:         concatenation of weight w and bias b\n",
    "        \n",
    "    '''\n",
    "    def __init__(self, lr, Lambda, max_itr, tol):\n",
    "        '''\n",
    "        Initialize the RidgeRegression class\n",
    "        '''\n",
    "        self.lr = lr\n",
    "        self.Lambda = Lambda\n",
    "        self.max_itr = max_itr\n",
    "        self.tol = tol\n",
    "        \n",
    "    def _loss_ridge(self, X, y, W):\n",
    "        '''\n",
    "        Calculating the regularized empirical loss\n",
    "        '''\n",
    "        return ((y-X@W).T@(y-X@W))[0,0] + self.Lambda * np.sum(W[:X.shape[1]-1,0]**2)\n",
    "    \n",
    "    \n",
    "    def fit(self,x,y):  \n",
    "        '''\n",
    "        estimate the weight and bias in the ridge regression model by gradient descent\n",
    "        \n",
    "        Args: \n",
    "            x (matrix, num_train*num_variables): input of training samples\n",
    "            y (matrix, num_test*1): output of training samples\n",
    "            \n",
    "        Returns:\n",
    "            self.W (matrix, (num_variables+1)*1): estimation of weight w and bias b\n",
    "        ''' \n",
    "        m = x.shape[0]\n",
    "        ### Add the all-one vector to the last column \n",
    "        X = np.concatenate((x,np.ones((m,1))),axis=1)\n",
    "        d = X.shape[1]\n",
    "        n= X.shape[0]\n",
    "        self.W = np.ones((d,1)) \n",
    "        \n",
    "        previous_loss = self._loss_ridge(X, y, self.W)\n",
    "        \n",
    "        for i in range(self.max_itr):\n",
    "            ### Use the gradient descent to update self.W\n",
    "            ##################################\n",
    "            ##################################\n",
    "            ##### Write your codes below #####\n",
    "            \n",
    "            #calculating the gradient\n",
    "            grad = (2*np.dot(np.transpose(X),np.dot(X,self.W)-y)+2*self.Lambda*((np.append(self.W[:-1],[0])).reshape(-1,1)))/n\n",
    "            #updating the weight vector\n",
    "            self.W = self.W - self.lr * grad\n",
    "            \n",
    "            ##################################\n",
    "            ##################################\n",
    "            current_loss = self._loss_ridge(X, y, self.W)\n",
    "            \n",
    "            if previous_loss - current_loss < self.tol:\n",
    "                print(f'Converged after {i} iterations')\n",
    "                break\n",
    "            else:\n",
    "                previous_loss = current_loss\n",
    "                \n",
    "        return self.W\n",
    "    \n",
    "    def predict(self,x): \n",
    "        '''\n",
    "        predict the output of the test samples\n",
    "        \n",
    "        Args: \n",
    "            x (matrix, num_test*num_variables): input of test samples\n",
    "            \n",
    "        Returns:\n",
    "            y (matrix, num_test*1): predicted outputs of test samples\n",
    "        ''' \n",
    "        ##################################\n",
    "        ##################################\n",
    "        ##### Write your codes below #####\n",
    "        m = x.shape[0]\n",
    "        X = np.concatenate((x,np.ones((m,1))),axis=1)    \n",
    "        y = np.dot(X,self.W)   \n",
    "        return(y)  \n",
    "        ##################################\n",
    "        ##################################"
   ]
  },
  {
   "cell_type": "code",
   "execution_count": 3,
   "metadata": {},
   "outputs": [
    {
     "data": {
      "text/plain": [
       "Ridge()"
      ]
     },
     "execution_count": 3,
     "metadata": {},
     "output_type": "execute_result"
    }
   ],
   "source": [
    "'''We want to get an idea of what the results should be in order to check if our algorithm actually works'''\n",
    "from sklearn.linear_model import Ridge\n",
    "clf = Ridge()\n",
    "clf.fit(X_train, y_train)"
   ]
  },
  {
   "cell_type": "code",
   "execution_count": 4,
   "metadata": {},
   "outputs": [
    {
     "name": "stdout",
     "output_type": "stream",
     "text": [
      "[[ 1.00290462e+00  2.99520508e+00 -1.64503717e-04 -2.06882638e-03\n",
      "  -1.03144811e-04  1.67551971e-03]]\n",
      "[1.99244048]\n"
     ]
    }
   ],
   "source": [
    "'''Checking the values of the coefficients of the weight vector and the value of the bias'''\n",
    "print(clf.coef_)\n",
    "print(clf.intercept_)"
   ]
  },
  {
   "cell_type": "markdown",
   "metadata": {},
   "source": [
    "Next we will use the class ``RidgeRegression`` to fit, predict and evaluate the ridge regression model. "
   ]
  },
  {
   "cell_type": "code",
   "execution_count": 5,
   "metadata": {},
   "outputs": [
    {
     "name": "stdout",
     "output_type": "stream",
     "text": [
      "Converged after 4539 iterations\n",
      "MSE of Ridge Regression is 0.009649084535582863\n",
      "The weight w of Ridge Regression is \n",
      " [ 1.00254391e+00  3.00223138e+00 -1.80989821e-04 -1.90801133e-03\n",
      " -8.75917640e-05  1.63996730e-03].\n",
      "The bias b of Ridge Regression is 1.9903892395864704.\n"
     ]
    }
   ],
   "source": [
    "from sklearn.metrics import mean_squared_error\n",
    "### Initial the class RidgeRegression by assigning values to the parameters.\n",
    "model = RidgeRegression(lr=0.01, Lambda=0.002, max_itr = 20000, tol = 1e-5)\n",
    "### Fit model with training data\n",
    "W = model.fit(X_train, y_train)\n",
    "### Predict the output of test samples\n",
    "y_pred = model.predict(X_test)\n",
    "### Evaluate the model by calculating the MSE of test samples.\n",
    "mse = mean_squared_error(y_pred, y_test)\n",
    "### Print MSE \n",
    "print(\"MSE of Ridge Regression is {}\".format(mse))\n",
    "### Print the estimated w and b\n",
    "print(\"The weight w of Ridge Regression is \\n {}.\".format(W[:X_test.shape[1],0].T))\n",
    "print(\"The bias b of Ridge Regression is {}.\".format(W[X_test.shape[1],0]))"
   ]
  },
  {
   "cell_type": "markdown",
   "metadata": {},
   "source": [
    "### 1.2.2 Lasso\n",
    "Similar to the ``RidgeRegression`` class, we will implement the Lasso algorithm.\n",
    "\n",
    "Please type in the codes in the specified space to complete the construction of the class ``Lasso``."
   ]
  },
  {
   "cell_type": "code",
   "execution_count": 6,
   "metadata": {},
   "outputs": [],
   "source": [
    "class Lasso():\n",
    "    '''\n",
    "    This is a class for Lasso algorithm.\n",
    "    \n",
    "    The class contains the hyper parameters of the lasso algorithm as attributes, such as the regurization \n",
    "    parameter(Lambda) of L_1 penality.\n",
    "    It also contains the functions for initializing the class, fitting the lasso model and use the fitted \n",
    "    model to predict test samples.\n",
    "    \n",
    "    Attributes:\n",
    "        Lambda:    regularization parameter for L_1 penalty\n",
    "        max_itr:   maximum number of iteration for gradient descent\n",
    "        tol:       if the change in loss is smaller than tol, then we stop iteration\n",
    "        W:         concatenation of weight w and bias b\n",
    "        \n",
    "    '''\n",
    "    def __init__(self, Lambda=0.5, max_itr=100, tol=0.0001):\n",
    "        '''\n",
    "        Initialize the RidgeRegression class\n",
    "        '''\n",
    "        self.Lambda = Lambda\n",
    "        self.max_itr = max_itr\n",
    "        self.tol = tol  \n",
    "    \n",
    "    def _loss_lasso(self, X, y, W):\n",
    "        '''\n",
    "        Calculating the regularized empirical loss\n",
    "        '''\n",
    "        return ((y-X@W).T@(y-X@W))[0,0] + self.Lambda * np.sum(np.abs(W[:X.shape[1]-1,0]))\n",
    "    \n",
    "    def fit(self, x, y):\n",
    "        '''\n",
    "        estimate the weight and bias in the lasso model by coordinate gradient descent\n",
    "        \n",
    "        Args: \n",
    "            x (matrix, num_train*num_variables): input of training samples\n",
    "            y (matrix, num_test*1): output of training samples\n",
    "            \n",
    "        Returns:\n",
    "            self.W (matrix, (num_variables+1)*1): estimation of weight w and bias b\n",
    "        '''\n",
    "        m = x.shape[0]\n",
    "        ### Add the all-one vector to the last column \n",
    "        X = np.concatenate((x,np.ones((m,1))),axis=1)\n",
    "        # weight and bias initialization\n",
    "        d = X.shape[1]\n",
    "        self.W = np.zeros((d,1))\n",
    "        \n",
    "        previous_loss = self._loss_lasso(X, y, self.W)\n",
    "        for i in range(self.max_itr):\n",
    "            ### Use the cooridinate gradient descent to update self.W\n",
    "            ######################################\n",
    "            ######################################\n",
    "            ####### Write your codes below #######\n",
    "            \n",
    "            ### Update bias\n",
    "            self.W[-1,0] = 1/m * np.sum((y - np.dot(X[:,:-1], self.W[:-1,:])))\n",
    "            \n",
    "            ### Update W_j, j=0,...,d-2\n",
    "            for j in range(d-1):\n",
    "                \n",
    "                R = y - np.dot(np.delete(X,j,1)[:,:-1],np.delete(self.W,j,0)[:-1,:]) - self.W[-1,0]\n",
    "                \n",
    "                num = ((2/m) * np.dot(np.transpose(R),X[:,j])).item()\n",
    "                denom = ((2/m) * np.sum(np.square(X[:,j]))).item()\n",
    "                \n",
    "                if num<-self.Lambda:\n",
    "                    self.W[j,0] = (num+self.Lambda)/denom\n",
    "                elif ((num>=-self.Lambda) & (num<=self.Lambda)):\n",
    "                    self.W[j,0] = 0\n",
    "                else:\n",
    "                    self.W[j,0] = (num-self.Lambda)/denom\n",
    "                \n",
    "            ######################################\n",
    "            ######################################\n",
    "            current_loss = self._loss_lasso(X, y, self.W)\n",
    "            if previous_loss - current_loss < self.tol:\n",
    "                print(f'Converged after {i} iterations')\n",
    "                break\n",
    "            else:\n",
    "                previous_loss = current_loss\n",
    "        return self.W\n",
    "    \n",
    "    def predict(self, x):\n",
    "        '''\n",
    "        predict the output of the test samples\n",
    "        \n",
    "        Args: \n",
    "            x (matrix, num_test*num_variables): input of test samples\n",
    "            \n",
    "        Returns:\n",
    "            y (matrix, num_test*1): predicted outputs of test samples\n",
    "        ''' \n",
    "        ######################################\n",
    "        ######################################\n",
    "        ####### Write your codes below #######\n",
    "        m = x.shape[0]\n",
    "        X = np.concatenate((x,np.ones((m,1))),axis=1)    \n",
    "        y = np.dot(X,self.W)   \n",
    "        return(y)\n",
    "        ######################################\n",
    "        ######################################"
   ]
  },
  {
   "cell_type": "markdown",
   "metadata": {},
   "source": [
    "Next we will use the class ``Lasso`` to fit, predict and evaluate the lasso model. "
   ]
  },
  {
   "cell_type": "code",
   "execution_count": 7,
   "metadata": {},
   "outputs": [
    {
     "name": "stdout",
     "output_type": "stream",
     "text": [
      "Converged after 138 iterations\n",
      "MSE of Lasso is 0.010416254055110713\n",
      "The weight w of Lasso is \n",
      " [0.99591569 2.91495635 0.         0.         0.         0.        ].\n",
      "The bias b of Lasso is 2.05574996100166.\n"
     ]
    }
   ],
   "source": [
    "### Initial the class Lasso by assigning values to the parameters.\n",
    "model = Lasso(Lambda = 0.015, max_itr=10000, tol=1e-5)\n",
    "### Fit model with training data\n",
    "W = model.fit(X_train, y_train)\n",
    "### Predict the output of test samples\n",
    "y_pred = model.predict(X_test)\n",
    "### Evaluate the model by calculating the MSE of test samples.\n",
    "mse = mean_squared_error(y_pred, y_test)\n",
    "### Print MSE \n",
    "print(\"MSE of Lasso is {}\".format(mse))\n",
    "### Print the estimated w and b\n",
    "print(\"The weight w of Lasso is \\n {}.\".format(W[:X_test.shape[1],0].T))\n",
    "print(\"The bias b of Lasso is {}.\".format(W[X_test.shape[1],0]))"
   ]
  },
  {
   "cell_type": "code",
   "execution_count": 8,
   "metadata": {},
   "outputs": [
    {
     "data": {
      "text/plain": [
       "Lasso(alpha=0.015)"
      ]
     },
     "execution_count": 8,
     "metadata": {},
     "output_type": "execute_result"
    }
   ],
   "source": [
    "from sklearn.linear_model import Lasso as Lasso_skl\n",
    "clf = Lasso_skl(alpha=0.015)\n",
    "clf.fit(X_train, y_train)"
   ]
  },
  {
   "cell_type": "code",
   "execution_count": 9,
   "metadata": {},
   "outputs": [
    {
     "name": "stdout",
     "output_type": "stream",
     "text": [
      "[ 0.98864074  2.82455244 -0.         -0.         -0.          0.        ]\n",
      "[2.12310444]\n"
     ]
    }
   ],
   "source": [
    "print(clf.coef_)\n",
    "print(clf.intercept_)"
   ]
  },
  {
   "cell_type": "markdown",
   "metadata": {},
   "source": [
    "## 1.3 Real-world Experiments -- UCI dataset\n",
    "In order to apply the estimator `class` in real-world problems, we first learn about the sources of machine learning datasets for evaluating algorithms. For example, the `uci machine learning repository` is a well-known online sources with thousands of real-world datasets. \n",
    "\n",
    "https://archive.ics.uci.edu/ml/index.php\n",
    "\n",
    "### 1.3.1 Energy dataset \n",
    "In this tutorial, we select ``Energy`` (https://archive.ics.uci.edu/ml/datasets/Appliances+energy+prediction) as our target regression dataset. Usually, before we use the dataset downloaded from the website, we are supposed to trim them first, e.g.~Make sure that the features and labels are in their positions."
   ]
  },
  {
   "cell_type": "code",
   "execution_count": 10,
   "metadata": {},
   "outputs": [],
   "source": [
    "# Load data for ridge regression and lasso\n",
    "import pandas as pd\n",
    "from sklearn.preprocessing import MinMaxScaler\n",
    "df = pd.read_csv(\"energydata_rv1.csv\")\n",
    "X = np.array(df.iloc[:,:-1])\n",
    "y = np.array(df.iloc[:,-1])\n",
    "# normalize\n",
    "scaler = MinMaxScaler()\n",
    "scaler.fit(X)\n",
    "X = scaler.transform(X)\n",
    "y = y.reshape(-1,1)\n",
    "\n",
    "# split the train and test\n",
    "from sklearn.model_selection import train_test_split\n",
    "X_train, X_test, y_train, y_test = train_test_split(X, y, test_size=0.3, random_state=2022)"
   ]
  },
  {
   "cell_type": "markdown",
   "metadata": {},
   "source": [
    "### 1.3.2 Ridge Regression"
   ]
  },
  {
   "cell_type": "code",
   "execution_count": 11,
   "metadata": {},
   "outputs": [
    {
     "name": "stdout",
     "output_type": "stream",
     "text": [
      "MSE of Ridge Regression is 210.37055057411303\n",
      "The weight w of Ridge Regression is \n",
      " [-1.53703155 -0.47833802  0.37123932  1.33683702  0.61218767  3.25141394\n",
      "  0.30668531  2.07841573  1.66992223 -0.85818914 -2.18712708 -1.49718881\n",
      "  2.05369176  1.82820729  0.22887344 -2.8063023   0.12258007  2.09329435\n",
      "  1.05649608 -3.6943694   3.76410778  0.94342786  3.90379053  0.76949037\n",
      " -1.18846724 -3.50028538].\n",
      "The bias b of Ridge Regression is 19.089188763184385.\n"
     ]
    }
   ],
   "source": [
    "from sklearn.metrics import mean_squared_error\n",
    "### Initial the class RidgeRegression by assigning values to the parameters.\n",
    "model = RidgeRegression(lr=0.01, Lambda=0.02, max_itr = 20000, tol = 1e-5)\n",
    "### Fit model with training data\n",
    "W = model.fit(X_train, y_train)\n",
    "### Predict the output of test samples\n",
    "y_pred = model.predict(X_test)\n",
    "### Evaluate the model by calculating the MSE of test samples.\n",
    "mse = mean_squared_error(y_pred, y_test)\n",
    "### Print MSE \n",
    "print(\"MSE of Ridge Regression is {}\".format(mse))\n",
    "### Print the estimated w and b\n",
    "print(\"The weight w of Ridge Regression is \\n {}.\".format(W[:X_test.shape[1],0].T))\n",
    "print(\"The bias b of Ridge Regression is {}.\".format(W[X_test.shape[1],0]))"
   ]
  },
  {
   "cell_type": "markdown",
   "metadata": {},
   "source": [
    "### 1.3.3 Lasso"
   ]
  },
  {
   "cell_type": "code",
   "execution_count": 12,
   "metadata": {},
   "outputs": [
    {
     "name": "stdout",
     "output_type": "stream",
     "text": [
      "MSE of Lasso is 209.8119576560743\n",
      "The weight w of Lasso is \n",
      " [-0.75791663  0.          0.          0.91385972  0.          0.25992675\n",
      "  0.          0.          0.2034837   0.          0.         -1.41598724\n",
      " -0.36242924  0.54596499  0.         -0.03448298  0.          0.73379924\n",
      "  0.         -1.57685701  0.          0.          0.98427781  0.\n",
      " -1.07493677  0.18704327].\n",
      "The bias b of Lasso is 25.133698679122944.\n"
     ]
    }
   ],
   "source": [
    "### Initial the class Lasso by assigning values to the parameters.\n",
    "model = Lasso(Lambda = 0.015, max_itr=100, tol=1e-5)\n",
    "### Fit model with training data\n",
    "W = model.fit(X_train, y_train)\n",
    "### Predict the output of test samples\n",
    "y_pred = model.predict(X_test)\n",
    "### Evaluate the model by calculating the MSE of test samples.\n",
    "mse = mean_squared_error(y_pred, y_test)\n",
    "### Print MSE \n",
    "print(\"MSE of Lasso is {}\".format(mse))\n",
    "### Print the estimated w and b\n",
    "print(\"The weight w of Lasso is \\n {}.\".format(W[:X_test.shape[1],0].T))\n",
    "print(\"The bias b of Lasso is {}.\".format(W[X_test.shape[1],0]))"
   ]
  },
  {
   "cell_type": "markdown",
   "metadata": {},
   "source": [
    "# 2. Classification\n",
    "\n",
    "## 2.1 Logistic Regression"
   ]
  },
  {
   "cell_type": "code",
   "execution_count": 13,
   "metadata": {},
   "outputs": [],
   "source": [
    "class LogisticRegression:\n",
    "    '''\n",
    "    This is a class for Logistic Regression algorithm.\n",
    "    \n",
    "    The class contains the hyper parameters of the logistic regression algorithm as attributes.\n",
    "    It also contains the functions for initializing the class, fitting the ridge regression model and use the fitted \n",
    "    model to predict test samples.\n",
    "    \n",
    "    Attributes:\n",
    "        lr:        learning rate of gradient descent\n",
    "        max_itr:   maximum number of iteration for gradient descent\n",
    "        tol:       if the change in loss is smaller than tol, then we stop iteration\n",
    "        W:         concatenation of weight w and bias b\n",
    "        verbose:   whether or not print the value of logitic loss every 1000 iterations\n",
    "        \n",
    "    '''\n",
    "    def __init__(self, lr=0.01, max_itr=100000, tol = 1e-5, verbose = False):\n",
    "        self.lr = lr\n",
    "        self.max_itr = max_itr\n",
    "        self.tol = tol\n",
    "        self.verbose = verbose\n",
    " \n",
    "    def __sigmoid(self, z):\n",
    "        '''\n",
    "        Define the Sigmoid function to convert from real value to [0,1]\n",
    "        \n",
    "        Args: \n",
    "            z (matrix, num_samples*1): scores or real value\n",
    "            \n",
    "        Returns:\n",
    "            A matrix (num_variables+1)*1: a value in the interval [0,1]\n",
    "        '''\n",
    "        return 1 / (1 + np.exp(-z))\n",
    "    \n",
    "    def __logistic_loss(self, h, y):\n",
    "        '''\n",
    "        Calculate the logistic loss\n",
    "        '''\n",
    "        return (-y * np.log(h) - (1 - y) * np.log(1 - h)).mean()\n",
    "    \n",
    "    def fit(self, x, y):\n",
    "        '''\n",
    "        estimate the weight and bias in the logistic regression model by gradient descent\n",
    "        \n",
    "        Args: \n",
    "            x (matrix, num_train*num_variables): input of training samples\n",
    "            y (matrix, num_test*1): labels of training samples, 0 or 1\n",
    "            \n",
    "        Returns:\n",
    "            self.W (matrix, (num_variables+1)*1): estimation of weight and bias, i.e (w,b)\n",
    "        '''\n",
    "        ### Add the all-one vector to the last column \n",
    "        m = x.shape[0]\n",
    "        X = np.concatenate((x, np.ones((m, 1))), axis=1)\n",
    "        y = y.reshape(-1,1)\n",
    "        # weight and bias initialization\n",
    "        d = X.shape[1]\n",
    "        self.W = np.zeros((d,1))\n",
    "        \n",
    "        z = np.dot(X, self.W)\n",
    "        h = self.__sigmoid(z)\n",
    "        previous_loss = self.__logistic_loss(h, y)\n",
    "        for i in range(self.max_itr):\n",
    "            ######################################\n",
    "            ######################################\n",
    "            ####### Write your codes below #######\n",
    "            ### Calculate the gradient and update self.W\n",
    "            p1 = np.divide(np.exp(np.dot(X, self.W)),(1+np.exp(np.dot(X,self.W))))\n",
    "            \n",
    "            grad = - 1/m * (np.dot(np.transpose(X),y-p1))\n",
    "\n",
    "            self.W = self.W - self.lr * grad\n",
    "\n",
    "            ######################################\n",
    "            ######################################\n",
    "            \n",
    "            #Calculate the new logistic loss\n",
    "            z = np.dot(X, self.W)\n",
    "            h = self.__sigmoid(z)\n",
    "            current_loss = self.__logistic_loss(h, y)\n",
    "            if previous_loss - current_loss < self.tol:\n",
    "                print('Converged after {} iterations'.format(i+1))\n",
    "                print('Logistic loss after {} iterations is {}'.format(i+1,current_loss))\n",
    "                break\n",
    "            else:\n",
    "                previous_loss = current_loss\n",
    "            if(self.verbose == True and i % 10000 == 0):\n",
    "                print('Logistic loss after {} iterations is {}'.format(i+1,current_loss))\n",
    "        return self.W\n",
    "    \n",
    "    def predict_prob(self, x):\n",
    "        '''\n",
    "        predict the posterior probability p_1(x; W) of the test samples\n",
    "        \n",
    "        Args: \n",
    "            x (matrix, num_test*num_variables): input of test samples\n",
    "            \n",
    "        Returns:\n",
    "            y (matrix, num_test*1): predicted posterior probability p_1(x; W) of test samples\n",
    "        ''' \n",
    "        ######################################\n",
    "        ######################################\n",
    "        ####### Write your codes below #######\n",
    "        m = x.shape[0]\n",
    "        X = np.concatenate((x,np.ones((m,1))),axis=1)    \n",
    "        y = np.divide(np.exp(np.dot(X, self.W)),(1+np.exp(np.dot(X,self.W))))\n",
    "        \n",
    "        return y\n",
    "        ######################################\n",
    "        ######################################\n",
    "    \n",
    "    def predict(self, x):\n",
    "        '''\n",
    "        predict the label of the test samples\n",
    "        \n",
    "        Args: \n",
    "            x (matrix, num_test*num_variables): input of test samples\n",
    "            \n",
    "        Returns:\n",
    "            y (matrix, num_test*1): predicted labels of test samples, 0 or 1\n",
    "        ''' \n",
    "        ######################################\n",
    "        ######################################\n",
    "        ####### Write your codes below #######\n",
    "        m = x.shape[0]\n",
    "        X = np.concatenate((x,np.ones((m,1))),axis=1)\n",
    "        y = 1 / (1 + np.exp(-np.dot(X,self.W)))\n",
    "        y = np.where(y>0.5,1,0)\n",
    "        \n",
    "        return y\n",
    "        ######################################\n",
    "        ######################################"
   ]
  },
  {
   "cell_type": "code",
   "execution_count": 14,
   "metadata": {},
   "outputs": [],
   "source": [
    "def loadDataSet(dataset_path, file_type=\"txt\"):\n",
    "    if file_type == \"txt\":\n",
    "        X = []                                                        #create feature matrix\n",
    "        y = []                                                       # create label matrix\n",
    "        fr = open(dataset_path)                                            #open file\n",
    "        for line in fr.readlines():                                         #read datum\n",
    "            lineArr = line.strip().split()                                  #remove the `\\n` and obtain the data from string\n",
    "            X.append([float(x) for x in lineArr[:-1]])     # add to the feature matrix\n",
    "            y.append(float(lineArr[-1]))                                # add to the label matrix\n",
    "        fr.close()                                                          # close file\n",
    "        return X, y    "
   ]
  },
  {
   "cell_type": "markdown",
   "metadata": {},
   "source": [
    "## 2.2 Load Dataset"
   ]
  },
  {
   "cell_type": "code",
   "execution_count": 15,
   "metadata": {},
   "outputs": [],
   "source": [
    "# read the training and test data\n",
    "import numpy as np\n",
    "X_train, y_train = loadDataSet(\"horseColicTraining.txt\")\n",
    "X_test, y_test = loadDataSet(\"horseColicTest.txt\")\n",
    "\n",
    "# transform the data from list to np.array\n",
    "X_train = np.array(X_train)\n",
    "y_train = np.array(y_train)\n",
    "X_test = np.array(X_test)\n",
    "y_test = np.array(y_test)\n",
    "\n",
    "# normalize\n",
    "X = np.vstack([X_train, X_test])\n",
    "from sklearn.preprocessing import MinMaxScaler\n",
    "scaler = MinMaxScaler()\n",
    "scaler.fit(X)\n",
    "X_train = scaler.transform(X_train)\n",
    "X_test = scaler.transform(X_test)"
   ]
  },
  {
   "cell_type": "code",
   "execution_count": 16,
   "metadata": {},
   "outputs": [
    {
     "data": {
      "text/plain": [
       "(299, 21)"
      ]
     },
     "execution_count": 16,
     "metadata": {},
     "output_type": "execute_result"
    }
   ],
   "source": [
    "X_train.shape"
   ]
  },
  {
   "cell_type": "markdown",
   "metadata": {},
   "source": [
    "## 2.3 Model Fitting"
   ]
  },
  {
   "cell_type": "code",
   "execution_count": 17,
   "metadata": {},
   "outputs": [
    {
     "name": "stdout",
     "output_type": "stream",
     "text": [
      "Logistic loss after 1 iterations is 0.6898762822641373\n",
      "Logistic loss after 10001 iterations is 0.5217484321994517\n",
      "Converged after 11802 iterations\n",
      "Logistic loss after 11802 iterations is 0.52171924670628\n",
      "[[ 0.7611359  -0.2002035   1.00541571 -2.51425541  0.82184505 -0.60528775\n",
      "  -0.36426046 -1.38660266 -0.16129892 -1.17278023  1.47758935 -0.60870321\n",
      "   1.39102436 -0.31464443 -0.98595971  0.58698705 -0.70142135 -0.4994333\n",
      "   1.04153942  0.06140696 -1.07582939  0.95021878]]\n",
      "The weight w of LR is \n",
      " [ 0.7611359  -0.2002035   1.00541571 -2.51425541  0.82184505 -0.60528775\n",
      " -0.36426046 -1.38660266 -0.16129892 -1.17278023  1.47758935 -0.60870321\n",
      "  1.39102436 -0.31464443 -0.98595971  0.58698705 -0.70142135 -0.4994333\n",
      "  1.04153942  0.06140696 -1.07582939].\n",
      "The bias b of LR is 0.950218777280958.\n"
     ]
    }
   ],
   "source": [
    "### initiate the logistic regressor\n",
    "model = LogisticRegression(lr=0.1, max_itr=100000, tol = 1e-8, verbose=True)\n",
    "### fit the model with training data and get the estimation of parameters (w & b)\n",
    "W = model.fit(X_train, y_train)\n",
    "### print the estimated w and b\n",
    "print(W.T)\n",
    "### print the estimated w and b\n",
    "print(\"The weight w of LR is \\n {}.\".format(W[:X_test.shape[1],0].T))\n",
    "print(\"The bias b of LR is {}.\".format(W[X_test.shape[1],0]))"
   ]
  },
  {
   "cell_type": "code",
   "execution_count": 18,
   "metadata": {},
   "outputs": [
    {
     "name": "stdout",
     "output_type": "stream",
     "text": [
      "[[ 0.73950141 -0.21365776  0.97815012 -2.34926073  0.75052224 -0.57945772\n",
      "  -0.37073264 -1.34911581 -0.17955956 -1.12934984  1.38820628 -0.58470098\n",
      "   1.33228264 -0.3253356  -0.92343828  0.56793484 -0.67105816 -0.48611763\n",
      "   1.02131436  0.02915557 -0.99448975]]\n",
      "[0.95559299]\n"
     ]
    }
   ],
   "source": [
    "#checking with the results with sklearn LogisticRegression emulating the same parameters\n",
    "from sklearn.linear_model import LogisticRegression as logreg\n",
    "\n",
    "clf = logreg(C=10, max_iter=10000, tol=1e-8)\n",
    "clf.fit(X_train, y_train)\n",
    "print(clf.coef_)\n",
    "print(clf.intercept_)\n"
   ]
  },
  {
   "cell_type": "markdown",
   "metadata": {},
   "source": [
    "## 2.4 Prediction and Evaluation"
   ]
  },
  {
   "cell_type": "code",
   "execution_count": 19,
   "metadata": {},
   "outputs": [
    {
     "name": "stdout",
     "output_type": "stream",
     "text": [
      "Accuracy of LR on the test dataset is 0.7164179104477612.\n"
     ]
    }
   ],
   "source": [
    "y_pred = model.predict(X_test)\n",
    "accuracy = np.sum(y_pred[:,0] == y_test)/len(y_test)\n",
    "print(\"Accuracy of LR on the test dataset is {}.\".format(accuracy))"
   ]
  },
  {
   "cell_type": "code",
   "execution_count": 20,
   "metadata": {},
   "outputs": [
    {
     "name": "stdout",
     "output_type": "stream",
     "text": [
      "Accuracy of LR on the test dataset is 0.7164179104477612.\n"
     ]
    }
   ],
   "source": [
    "#calculating the results for the sklearn Logistic Regression model\n",
    "y_pred1 = clf.predict(X_test)\n",
    "accuracy = np.sum(y_pred1 == y_test)/len(y_test)\n",
    "print(\"Accuracy of LR on the test dataset is {}.\".format(accuracy))"
   ]
  },
  {
   "cell_type": "code",
   "execution_count": 21,
   "metadata": {},
   "outputs": [
    {
     "data": {
      "text/plain": [
       "1.0"
      ]
     },
     "execution_count": 21,
     "metadata": {},
     "output_type": "execute_result"
    }
   ],
   "source": [
    "#comparing the number of same predictions of the two models\n",
    "(y_pred1==y_pred[:,0]).sum()/len(y_pred1)"
   ]
  }
 ],
 "metadata": {
  "kernelspec": {
   "display_name": "Python 3.10.5 64-bit",
   "language": "python",
   "name": "python3"
  },
  "language_info": {
   "codemirror_mode": {
    "name": "ipython",
    "version": 3
   },
   "file_extension": ".py",
   "mimetype": "text/x-python",
   "name": "python",
   "nbconvert_exporter": "python",
   "pygments_lexer": "ipython3",
   "version": "3.10.5"
  },
  "vscode": {
   "interpreter": {
    "hash": "93028d5495cf3fdad3791cfb45569ed1ffef5b94a8e8037ba1bdda77d837769f"
   }
  }
 },
 "nbformat": 4,
 "nbformat_minor": 2
}

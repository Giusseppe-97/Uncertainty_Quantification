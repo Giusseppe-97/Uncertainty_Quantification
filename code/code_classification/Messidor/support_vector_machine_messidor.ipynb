{
 "cells": [
  {
   "cell_type": "markdown",
   "metadata": {},
   "source": [
    "# SVM for classification"
   ]
  },
  {
   "cell_type": "markdown",
   "metadata": {},
   "source": [
    "### Importing Libraries for running the code and plotting the results"
   ]
  },
  {
   "cell_type": "code",
   "execution_count": 121,
   "metadata": {},
   "outputs": [],
   "source": [
    "import os\n",
    "import numpy as np\n",
    "import pandas as pd\n",
    "import matplotlib.colors\n",
    "import matplotlib.pyplot as plt\n",
    "np.random.seed(102)"
   ]
  },
  {
   "cell_type": "markdown",
   "metadata": {},
   "source": [
    "### Importing sklearn tools and methods to proof the algorithm is working correctly"
   ]
  },
  {
   "cell_type": "code",
   "execution_count": 122,
   "metadata": {},
   "outputs": [],
   "source": [
    "from sklearn.svm import SVC \n",
    "from sklearn.utils import resample \n",
    "from sklearn.decomposition import PCA \n",
    "from sklearn.model_selection import KFold, train_test_split\n",
    "from sklearn.preprocessing import scale, StandardScaler, MinMaxScaler\n",
    "from sklearn.metrics import mean_squared_error, accuracy_score, confusion_matrix, plot_confusion_matrix"
   ]
  },
  {
   "cell_type": "markdown",
   "metadata": {},
   "source": [
    "## Dataset Preparation"
   ]
  },
  {
   "cell_type": "code",
   "execution_count": 152,
   "metadata": {},
   "outputs": [],
   "source": [
    "# load datasets function\n",
    "def load_data(data_file_name):\n",
    "    data_dir = \"..\\..\\..\\data\\data_classification\"\n",
    "    data_path = os.path.join(data_dir, data_file_name)\n",
    "    df = pd.read_csv(data_path, header=1)\n",
    "    print(df)\n",
    "    data_X = df.iloc[:,:-1]\n",
    "    data_y = df.iloc[:,-1]\n",
    "    scaler_X = StandardScaler()\n",
    "    data_X = scaler_X.fit_transform(data_X)\n",
    "    data_y = pd.Categorical(data_y).codes.reshape(-1)\n",
    "    return data_X, data_y"
   ]
  },
  {
   "cell_type": "markdown",
   "metadata": {},
   "source": [
    "## Importing the data"
   ]
  },
  {
   "cell_type": "code",
   "execution_count": 153,
   "metadata": {},
   "outputs": [],
   "source": [
    "\n",
    "def main():\n",
    "\n",
    "    # read dataset from csv file\n",
    "    data_name = \"messidor_classification\"\n",
    "    data_X, data_y = load_data(\"{}.csv\".format(data_name))\n",
    "\n",
    "    # Train and test set\n",
    "    # kf = KFold(n_splits=10)\n",
    "    # res_list = []\n",
    "    # for train_index, test_index in kf.split(data_X):\n",
    "    #     train_X, train_y = data_X[train_index,:], data_y[train_index]\n",
    "    #     test_X, test_y = data_X[test_index,:], data_y[test_index]\n",
    "    return data_X, data_y\n",
    "\n"
   ]
  },
  {
   "cell_type": "code",
   "execution_count": 167,
   "metadata": {},
   "outputs": [
    {
     "name": "stdout",
     "output_type": "stream",
     "text": [
      "0       0\n",
      "1       0\n",
      "2       1\n",
      "3       0\n",
      "4       1\n",
      "       ..\n",
      "1146    0\n",
      "1147    0\n",
      "1148    0\n",
      "1149    1\n",
      "1150    0\n",
      "Name: Class, Length: 1151, dtype: int8\n"
     ]
    }
   ],
   "source": [
    "\n",
    "data_dir = \"..\\..\\..\\data\\data_classification\"\n",
    "data_path = os.path.join(data_dir, \"messidor_classification.csv\")\n",
    "df = pd.read_csv(data_path, header=0)\n",
    "df['Class'] = df['Class'].str.split(\"b'\").str[1]\n",
    "df['Class'] = df['Class'].str.split(\"'\").str[0]\n",
    "df['Class'] = df['Class'].astype(int)\n",
    "print(df['Class'])"
   ]
  },
  {
   "cell_type": "markdown",
   "metadata": {},
   "source": [
    "## Data Preprocessing"
   ]
  },
  {
   "cell_type": "markdown",
   "metadata": {},
   "source": [
    "In order to improve our performance, we want to make sure that the data we are dealing with is good. This means, there is no missing data, we are aware of the data types, and we fix possible mistakes. "
   ]
  },
  {
   "cell_type": "code",
   "execution_count": 142,
   "metadata": {},
   "outputs": [],
   "source": [
    "x, y = main()\n",
    "# dfx = np.array(dfx, dtype=np.float32)\n",
    "# dfy = np.array(dfy, dtype=np.int64)\n",
    "dfx = pd.DataFrame(x) \n",
    "dfy = pd.DataFrame(y) "
   ]
  },
  {
   "cell_type": "code",
   "execution_count": 143,
   "metadata": {},
   "outputs": [
    {
     "data": {
      "text/html": [
       "<div>\n",
       "<style scoped>\n",
       "    .dataframe tbody tr th:only-of-type {\n",
       "        vertical-align: middle;\n",
       "    }\n",
       "\n",
       "    .dataframe tbody tr th {\n",
       "        vertical-align: top;\n",
       "    }\n",
       "\n",
       "    .dataframe thead th {\n",
       "        text-align: right;\n",
       "    }\n",
       "</style>\n",
       "<table border=\"1\" class=\"dataframe\">\n",
       "  <thead>\n",
       "    <tr style=\"text-align: right;\">\n",
       "      <th></th>\n",
       "      <th>y</th>\n",
       "    </tr>\n",
       "  </thead>\n",
       "  <tbody>\n",
       "    <tr>\n",
       "      <th>0</th>\n",
       "      <td>1</td>\n",
       "    </tr>\n",
       "    <tr>\n",
       "      <th>1</th>\n",
       "      <td>1</td>\n",
       "    </tr>\n",
       "    <tr>\n",
       "      <th>2</th>\n",
       "      <td>1</td>\n",
       "    </tr>\n",
       "    <tr>\n",
       "      <th>3</th>\n",
       "      <td>1</td>\n",
       "    </tr>\n",
       "    <tr>\n",
       "      <th>4</th>\n",
       "      <td>1</td>\n",
       "    </tr>\n",
       "  </tbody>\n",
       "</table>\n",
       "</div>"
      ],
      "text/plain": [
       "   y\n",
       "0  1\n",
       "1  1\n",
       "2  1\n",
       "3  1\n",
       "4  1"
      ]
     },
     "execution_count": 143,
     "metadata": {},
     "output_type": "execute_result"
    }
   ],
   "source": [
    "# dfx.dtypes\n",
    "dfx.rename({0 : 'col_0',\n",
    "            1 : 'col_1',\n",
    "            2 : 'col_2',\n",
    "            3 : 'col_3',\n",
    "            4 : 'col_4',\n",
    "            5 : 'col_5',\n",
    "            6 : 'col_6',\n",
    "            7 : 'col_7',\n",
    "            8 : 'col_8',\n",
    "            9 : 'col_9',\n",
    "            10: 'col_10',\n",
    "            11: 'col_11',\n",
    "            12: 'col_12',\n",
    "            13: 'col_13',\n",
    "            14: 'col_14',\n",
    "            15: 'col_15',\n",
    "            16: 'col_16',\n",
    "            17: 'col_17',\n",
    "            18: 'col_18'}, axis='columns', inplace=True)\n",
    "dfy.rename({0:'y'}, axis='columns', inplace=True) \n",
    "dfy.head()\n"
   ]
  },
  {
   "cell_type": "markdown",
   "metadata": {},
   "source": [
    "## Implementation of SVM"
   ]
  },
  {
   "cell_type": "markdown",
   "metadata": {},
   "source": [
    "We choose the Gaussian kernel (RBF kernel) for SVM. For any $x_i, x_j \\in\\mathbb{R}^d$, we define\n",
    "$$\n",
    "\\kappa(x_i, x_j) = \\exp \\bigl( - \\|x_i - x_j\\|^2 / (2 \\sigma^2) \\bigr)\n",
    "$$ \n",
    "where $\\sigma > 0$ is the width of the Gaussian kernel."
   ]
  },
  {
   "cell_type": "code",
   "execution_count": 127,
   "metadata": {},
   "outputs": [],
   "source": [
    "class SVM():\n",
    "    '''\n",
    "    This is a class for support vector machine.\n",
    "    \n",
    "    The class contains the hyper-parameters such as $C$ and the kernel bandwidth $\\sigma$. It also contains \n",
    "    the alpha vector, the tolerance for prediction error and the maximum number of iteration.\n",
    "    \n",
    "    It contains the functions for calculating the kernel matrix, fitting the model to estimate alpha and b \n",
    "    with SMO algorithm, making predictions and other fundamental functions.\n",
    "    \n",
    "    Attributes:\n",
    "        C (positive number)         - the hyperparameter for SVM algorithm\n",
    "        sigma (positive number)     - the kernel bandwidth $\\sigma$ of Gaussian kernel \n",
    "        toler (positive number)     - the threshold value of prediction error. If the prediction error of \n",
    "                                      a sample is larger than this value, the corresponding alpha_i will be \n",
    "                                      probably updated.\n",
    "        maxIter (positive integer)  - the maximum number of iteration to search a pair of alpha's to update\n",
    "        alphas (vector, num_samples)- the alpha vector in the dual problem \n",
    "        b (number)                  - the bias b\n",
    "    '''\n",
    "    \n",
    "    def __init__(self, C = 1, sigma = 1, toler = 0.01, maxIter = 100):\n",
    "        self.C = C\n",
    "        self.sigma = sigma\n",
    "        self.toler = toler\n",
    "        self.maxIter = maxIter\n",
    "        self.alphas = 0\n",
    "        self.b = 0\n",
    "        \n",
    "    def rbfkernel(self, X, Y):\n",
    "        '''\n",
    "        Calculate the kernel matrix whose (i,j)-th entry is $k(X[i,:], Y[j,:])$.\n",
    "        '''\n",
    "        m = X.shape[0]\n",
    "        n = Y.shape[0]\n",
    "        K = np.zeros(shape=(m, n))\n",
    "        for i in range(m):\n",
    "            for j in range(n):\n",
    "                K[i, j] = np.sum((X[i,:] - Y[j,:])**2)\n",
    "        K = np.exp(-K / (2 * self.sigma**2))\n",
    "        return K\n",
    "\n",
    "    def selectJrand(self, i, m):\n",
    "        '''\n",
    "        Randomly choose an index $j\\neq i$ from 0 to m-1\n",
    "        '''\n",
    "        j = i \n",
    "        while (j == i):\n",
    "            j = int(np.random.uniform(0, m))\n",
    "        return j\n",
    "\n",
    "\n",
    "    def clipAlpha(self, aj, H, L):\n",
    "        '''\n",
    "        Clip the vale aj by the lower bound L and upper bound H\n",
    "        '''\n",
    "        if aj > H:\n",
    "            aj = H\n",
    "        if L > aj:\n",
    "            aj = L\n",
    "        return aj\n",
    "\n",
    "\n",
    "    def fit(self, X_train, y_train):\n",
    "        '''\n",
    "        estimate the alphas vector and bias in the SVM model\n",
    "        \n",
    "        Args: \n",
    "            X_train (matrix, num_train*num_features): features of training samples\n",
    "            y_train (vector, num_train): label of training samples, each label is either -1 or 1\n",
    "            \n",
    "        Returns:\n",
    "            self.b (a number)                 : the bias\n",
    "            self.alphas (vector, num_features): the alpha vector \n",
    "        ''' \n",
    "        K_train = self.rbfkernel(X_train, X_train)\n",
    "        self.X_train = X_train\n",
    "        self.y_train = y_train\n",
    "        m = K_train.shape[0]\n",
    "        self.alphas = np.zeros((m, ))\n",
    "        num_iter = 0\n",
    "        while (num_iter < self.maxIter):\n",
    "            alphaPairsChanged = 0\n",
    "            # optimize for each data vector (with kernel trick)\n",
    "            for i in range(m):   \n",
    "                fXi = (self.alphas * y_train) @ K_train[i, :] + self.b\n",
    "                # if checks if an example violates KKT conditions\n",
    "                Ei = fXi - y_train[i]\n",
    "                if ((y_train[i] * Ei < -self.toler) and (self.alphas[i] < self.C)) \\\n",
    "                       or ((y_train[i] * Ei > self.toler) and (self.alphas[i] > 0)):\n",
    "                    j = self.selectJrand(i, m)\n",
    "                    fXj = (self.alphas * y_train) @ K_train[j, :] + self.b\n",
    "                    Ej = fXj - y_train[j]\n",
    "                    alphaJold = self.alphas[j].copy()\n",
    "                    alphaIold = self.alphas[i].copy()\n",
    "                    if (y_train[j] != y_train[i]):\n",
    "                        L = max(0, self.alphas[i] - self.alphas[j])\n",
    "                        H = min(self.C, self.C + self.alphas[i] - self.alphas[j])\n",
    "                    else:\n",
    "                        L = max(0, self.alphas[i] + self.alphas[j] - self.C)\n",
    "                        H = min(self.C, self.alphas[i] + self.alphas[j])\n",
    "                    if L == H:\n",
    "                        continue\n",
    "                    eta = 2.0 * K_train[j, i] - K_train[j, j] - K_train[i, i]\n",
    "                    if eta >= 0:\n",
    "                        continue\n",
    "                    self.alphas[i] += y_train[i] * (Ei - Ej) / eta\n",
    "                    self.alphas[i] = self.clipAlpha(self.alphas[i], H, L)\n",
    "                    if (abs(self.alphas[i] - alphaIold) < 0.00001):\n",
    "                        continue\n",
    "                    # update i by the same amount as j, the direction depends on y[i] and y[j]\n",
    "                    self.alphas[j] += y_train[i] * y_train[j] * (alphaIold - self.alphas[i])\n",
    "                    # update self.b\n",
    "                    b1 = self.b - Ej - y_train[j] * (self.alphas[j] - alphaJold) * K_train[\n",
    "                        j, j] - y_train[i] * (self.alphas[i] - alphaIold) * K_train[j, i]\n",
    "                    b2 = self.b - Ei - y_train[j] * (self.alphas[j] - alphaJold) * K_train[\n",
    "                        j, i] - y_train[i] * (self.alphas[i] - alphaIold) * K_train[i, i]\n",
    "                    if (0 < self.alphas[j]) and (self.C > self.alphas[j]): self.b = b1\n",
    "                    elif (0 < self.alphas[i]) and (self.C > self.alphas[i]): self.b = b2\n",
    "                    else: self.b = (b1 + b2) / 2.0\n",
    "                    alphaPairsChanged += 1\n",
    "            if (alphaPairsChanged == 0): num_iter += 1\n",
    "            else: num_iter = 0\n",
    "        return self.b, self.alphas\n",
    "\n",
    "\n",
    "    def predict(self,X_test):\n",
    "        '''\n",
    "        predict the label of test samples\n",
    "        Args:\n",
    "            X_test(matrix, num_test*num_features): features of test samples\n",
    "        Returns:\n",
    "            y_hat(vector, num_test): the predicted label of test samples, each label is either -1 or 1\n",
    "        '''\n",
    "        K_test = self.rbfkernel(self.X_train, X_test)\n",
    "        f = K_test.T @ (self.alphas * self.y_train) + self.b\n",
    "        y_hat = np.sign(f)\n",
    "        return y_hat"
   ]
  },
  {
   "cell_type": "markdown",
   "metadata": {},
   "source": [
    "## Run SVM on the dataset"
   ]
  },
  {
   "cell_type": "code",
   "execution_count": 128,
   "metadata": {},
   "outputs": [],
   "source": [
    "def t_t():\n",
    "    # Randomly assingning a train and test set\n",
    "    train_X, test_X, train_y, test_y = train_test_split(main()[0], main()[1], test_size=0.33, random_state=100)\n",
    "    return train_X, test_X, train_y, test_y"
   ]
  },
  {
   "cell_type": "code",
   "execution_count": 129,
   "metadata": {},
   "outputs": [
    {
     "data": {
      "text/html": [
       "<style>#sk-container-id-2 {color: black;background-color: white;}#sk-container-id-2 pre{padding: 0;}#sk-container-id-2 div.sk-toggleable {background-color: white;}#sk-container-id-2 label.sk-toggleable__label {cursor: pointer;display: block;width: 100%;margin-bottom: 0;padding: 0.3em;box-sizing: border-box;text-align: center;}#sk-container-id-2 label.sk-toggleable__label-arrow:before {content: \"▸\";float: left;margin-right: 0.25em;color: #696969;}#sk-container-id-2 label.sk-toggleable__label-arrow:hover:before {color: black;}#sk-container-id-2 div.sk-estimator:hover label.sk-toggleable__label-arrow:before {color: black;}#sk-container-id-2 div.sk-toggleable__content {max-height: 0;max-width: 0;overflow: hidden;text-align: left;background-color: #f0f8ff;}#sk-container-id-2 div.sk-toggleable__content pre {margin: 0.2em;color: black;border-radius: 0.25em;background-color: #f0f8ff;}#sk-container-id-2 input.sk-toggleable__control:checked~div.sk-toggleable__content {max-height: 200px;max-width: 100%;overflow: auto;}#sk-container-id-2 input.sk-toggleable__control:checked~label.sk-toggleable__label-arrow:before {content: \"▾\";}#sk-container-id-2 div.sk-estimator input.sk-toggleable__control:checked~label.sk-toggleable__label {background-color: #d4ebff;}#sk-container-id-2 div.sk-label input.sk-toggleable__control:checked~label.sk-toggleable__label {background-color: #d4ebff;}#sk-container-id-2 input.sk-hidden--visually {border: 0;clip: rect(1px 1px 1px 1px);clip: rect(1px, 1px, 1px, 1px);height: 1px;margin: -1px;overflow: hidden;padding: 0;position: absolute;width: 1px;}#sk-container-id-2 div.sk-estimator {font-family: monospace;background-color: #f0f8ff;border: 1px dotted black;border-radius: 0.25em;box-sizing: border-box;margin-bottom: 0.5em;}#sk-container-id-2 div.sk-estimator:hover {background-color: #d4ebff;}#sk-container-id-2 div.sk-parallel-item::after {content: \"\";width: 100%;border-bottom: 1px solid gray;flex-grow: 1;}#sk-container-id-2 div.sk-label:hover label.sk-toggleable__label {background-color: #d4ebff;}#sk-container-id-2 div.sk-serial::before {content: \"\";position: absolute;border-left: 1px solid gray;box-sizing: border-box;top: 0;bottom: 0;left: 50%;z-index: 0;}#sk-container-id-2 div.sk-serial {display: flex;flex-direction: column;align-items: center;background-color: white;padding-right: 0.2em;padding-left: 0.2em;position: relative;}#sk-container-id-2 div.sk-item {position: relative;z-index: 1;}#sk-container-id-2 div.sk-parallel {display: flex;align-items: stretch;justify-content: center;background-color: white;position: relative;}#sk-container-id-2 div.sk-item::before, #sk-container-id-2 div.sk-parallel-item::before {content: \"\";position: absolute;border-left: 1px solid gray;box-sizing: border-box;top: 0;bottom: 0;left: 50%;z-index: -1;}#sk-container-id-2 div.sk-parallel-item {display: flex;flex-direction: column;z-index: 1;position: relative;background-color: white;}#sk-container-id-2 div.sk-parallel-item:first-child::after {align-self: flex-end;width: 50%;}#sk-container-id-2 div.sk-parallel-item:last-child::after {align-self: flex-start;width: 50%;}#sk-container-id-2 div.sk-parallel-item:only-child::after {width: 0;}#sk-container-id-2 div.sk-dashed-wrapped {border: 1px dashed gray;margin: 0 0.4em 0.5em 0.4em;box-sizing: border-box;padding-bottom: 0.4em;background-color: white;}#sk-container-id-2 div.sk-label label {font-family: monospace;font-weight: bold;display: inline-block;line-height: 1.2em;}#sk-container-id-2 div.sk-label-container {text-align: center;}#sk-container-id-2 div.sk-container {/* jupyter's `normalize.less` sets `[hidden] { display: none; }` but bootstrap.min.css set `[hidden] { display: none !important; }` so we also need the `!important` here to be able to override the default hidden behavior on the sphinx rendered scikit-learn.org. See: https://github.com/scikit-learn/scikit-learn/issues/21755 */display: inline-block !important;position: relative;}#sk-container-id-2 div.sk-text-repr-fallback {display: none;}</style><div id=\"sk-container-id-2\" class=\"sk-top-container\"><div class=\"sk-text-repr-fallback\"><pre>SVC(random_state=42)</pre><b>In a Jupyter environment, please rerun this cell to show the HTML representation or trust the notebook. <br />On GitHub, the HTML representation is unable to render, please try loading this page with nbviewer.org.</b></div><div class=\"sk-container\" hidden><div class=\"sk-item\"><div class=\"sk-estimator sk-toggleable\"><input class=\"sk-toggleable__control sk-hidden--visually\" id=\"sk-estimator-id-2\" type=\"checkbox\" checked><label for=\"sk-estimator-id-2\" class=\"sk-toggleable__label sk-toggleable__label-arrow\">SVC</label><div class=\"sk-toggleable__content\"><pre>SVC(random_state=42)</pre></div></div></div></div></div>"
      ],
      "text/plain": [
       "SVC(random_state=42)"
      ]
     },
     "execution_count": 129,
     "metadata": {},
     "output_type": "execute_result"
    }
   ],
   "source": [
    "clf_svm = SVC(random_state=42)\n",
    "clf_svm.fit(t_t()[0], t_t()[2])"
   ]
  },
  {
   "cell_type": "code",
   "execution_count": 130,
   "metadata": {},
   "outputs": [
    {
     "name": "stderr",
     "output_type": "stream",
     "text": [
      "c:\\Users\\josep\\AppData\\Local\\Programs\\Python\\Python310\\lib\\site-packages\\sklearn\\utils\\deprecation.py:87: FutureWarning: Function plot_confusion_matrix is deprecated; Function `plot_confusion_matrix` is deprecated in 1.0 and will be removed in 1.2. Use one of the class methods: ConfusionMatrixDisplay.from_predictions or ConfusionMatrixDisplay.from_estimator.\n",
      "  warnings.warn(msg, category=FutureWarning)\n"
     ]
    },
    {
     "data": {
      "text/plain": [
       "<sklearn.metrics._plot.confusion_matrix.ConfusionMatrixDisplay at 0x187ac8f3670>"
      ]
     },
     "execution_count": 130,
     "metadata": {},
     "output_type": "execute_result"
    },
    {
     "data": {
      "image/png": "[encoded data removed]",
      "text/plain": [
       "<Figure size 432x288 with 2 Axes>"
      ]
     },
     "metadata": {
      "needs_background": "light"
     },
     "output_type": "display_data"
    }
   ],
   "source": [
    "plot_confusion_matrix(clf_svm,t_t()[1],  t_t()[3], values_format='d')"
   ]
  },
  {
   "cell_type": "code",
   "execution_count": 131,
   "metadata": {},
   "outputs": [],
   "source": [
    "param_grid = [{'C':[0.5, 1, 10, 100], 'gamma': ['scale', 1, 0.1, 0.01, 0.001], 'kernel': ['rbf'] }]"
   ]
  },
  {
   "cell_type": "code",
   "execution_count": 132,
   "metadata": {},
   "outputs": [
    {
     "name": "stdout",
     "output_type": "stream",
     "text": [
      "{'C': 100, 'gamma': 0.01, 'kernel': 'rbf'}\n"
     ]
    }
   ],
   "source": [
    "from sklearn.model_selection import GridSearchCV\n",
    "\n",
    "optimal_params = GridSearchCV(SVC(),\n",
    "                             param_grid,\n",
    "                             cv = 5,\n",
    "                             scoring = 'accuracy' )\n",
    "\n",
    "optimal_params.fit(t_t()[0], t_t()[2])\n",
    "print(optimal_params.best_params_)"
   ]
  },
  {
   "cell_type": "code",
   "execution_count": 136,
   "metadata": {},
   "outputs": [
    {
     "data": {
      "text/html": [
       "<style>#sk-container-id-3 {color: black;background-color: white;}#sk-container-id-3 pre{padding: 0;}#sk-container-id-3 div.sk-toggleable {background-color: white;}#sk-container-id-3 label.sk-toggleable__label {cursor: pointer;display: block;width: 100%;margin-bottom: 0;padding: 0.3em;box-sizing: border-box;text-align: center;}#sk-container-id-3 label.sk-toggleable__label-arrow:before {content: \"▸\";float: left;margin-right: 0.25em;color: #696969;}#sk-container-id-3 label.sk-toggleable__label-arrow:hover:before {color: black;}#sk-container-id-3 div.sk-estimator:hover label.sk-toggleable__label-arrow:before {color: black;}#sk-container-id-3 div.sk-toggleable__content {max-height: 0;max-width: 0;overflow: hidden;text-align: left;background-color: #f0f8ff;}#sk-container-id-3 div.sk-toggleable__content pre {margin: 0.2em;color: black;border-radius: 0.25em;background-color: #f0f8ff;}#sk-container-id-3 input.sk-toggleable__control:checked~div.sk-toggleable__content {max-height: 200px;max-width: 100%;overflow: auto;}#sk-container-id-3 input.sk-toggleable__control:checked~label.sk-toggleable__label-arrow:before {content: \"▾\";}#sk-container-id-3 div.sk-estimator input.sk-toggleable__control:checked~label.sk-toggleable__label {background-color: #d4ebff;}#sk-container-id-3 div.sk-label input.sk-toggleable__control:checked~label.sk-toggleable__label {background-color: #d4ebff;}#sk-container-id-3 input.sk-hidden--visually {border: 0;clip: rect(1px 1px 1px 1px);clip: rect(1px, 1px, 1px, 1px);height: 1px;margin: -1px;overflow: hidden;padding: 0;position: absolute;width: 1px;}#sk-container-id-3 div.sk-estimator {font-family: monospace;background-color: #f0f8ff;border: 1px dotted black;border-radius: 0.25em;box-sizing: border-box;margin-bottom: 0.5em;}#sk-container-id-3 div.sk-estimator:hover {background-color: #d4ebff;}#sk-container-id-3 div.sk-parallel-item::after {content: \"\";width: 100%;border-bottom: 1px solid gray;flex-grow: 1;}#sk-container-id-3 div.sk-label:hover label.sk-toggleable__label {background-color: #d4ebff;}#sk-container-id-3 div.sk-serial::before {content: \"\";position: absolute;border-left: 1px solid gray;box-sizing: border-box;top: 0;bottom: 0;left: 50%;z-index: 0;}#sk-container-id-3 div.sk-serial {display: flex;flex-direction: column;align-items: center;background-color: white;padding-right: 0.2em;padding-left: 0.2em;position: relative;}#sk-container-id-3 div.sk-item {position: relative;z-index: 1;}#sk-container-id-3 div.sk-parallel {display: flex;align-items: stretch;justify-content: center;background-color: white;position: relative;}#sk-container-id-3 div.sk-item::before, #sk-container-id-3 div.sk-parallel-item::before {content: \"\";position: absolute;border-left: 1px solid gray;box-sizing: border-box;top: 0;bottom: 0;left: 50%;z-index: -1;}#sk-container-id-3 div.sk-parallel-item {display: flex;flex-direction: column;z-index: 1;position: relative;background-color: white;}#sk-container-id-3 div.sk-parallel-item:first-child::after {align-self: flex-end;width: 50%;}#sk-container-id-3 div.sk-parallel-item:last-child::after {align-self: flex-start;width: 50%;}#sk-container-id-3 div.sk-parallel-item:only-child::after {width: 0;}#sk-container-id-3 div.sk-dashed-wrapped {border: 1px dashed gray;margin: 0 0.4em 0.5em 0.4em;box-sizing: border-box;padding-bottom: 0.4em;background-color: white;}#sk-container-id-3 div.sk-label label {font-family: monospace;font-weight: bold;display: inline-block;line-height: 1.2em;}#sk-container-id-3 div.sk-label-container {text-align: center;}#sk-container-id-3 div.sk-container {/* jupyter's `normalize.less` sets `[hidden] { display: none; }` but bootstrap.min.css set `[hidden] { display: none !important; }` so we also need the `!important` here to be able to override the default hidden behavior on the sphinx rendered scikit-learn.org. See: https://github.com/scikit-learn/scikit-learn/issues/21755 */display: inline-block !important;position: relative;}#sk-container-id-3 div.sk-text-repr-fallback {display: none;}</style><div id=\"sk-container-id-3\" class=\"sk-top-container\"><div class=\"sk-text-repr-fallback\"><pre>SVC(C=100, gamma=0.01, random_state=42)</pre><b>In a Jupyter environment, please rerun this cell to show the HTML representation or trust the notebook. <br />On GitHub, the HTML representation is unable to render, please try loading this page with nbviewer.org.</b></div><div class=\"sk-container\" hidden><div class=\"sk-item\"><div class=\"sk-estimator sk-toggleable\"><input class=\"sk-toggleable__control sk-hidden--visually\" id=\"sk-estimator-id-3\" type=\"checkbox\" checked><label for=\"sk-estimator-id-3\" class=\"sk-toggleable__label sk-toggleable__label-arrow\">SVC</label><div class=\"sk-toggleable__content\"><pre>SVC(C=100, gamma=0.01, random_state=42)</pre></div></div></div></div></div>"
      ],
      "text/plain": [
       "SVC(C=100, gamma=0.01, random_state=42)"
      ]
     },
     "execution_count": 136,
     "metadata": {},
     "output_type": "execute_result"
    }
   ],
   "source": [
    "clf_svm = SVC(random_state=42, C = 100, gamma=0.01)\n",
    "clf_svm.fit(t_t()[0], t_t()[2])"
   ]
  },
  {
   "cell_type": "code",
   "execution_count": 137,
   "metadata": {},
   "outputs": [
    {
     "name": "stderr",
     "output_type": "stream",
     "text": [
      "c:\\Users\\josep\\AppData\\Local\\Programs\\Python\\Python310\\lib\\site-packages\\sklearn\\utils\\deprecation.py:87: FutureWarning: Function plot_confusion_matrix is deprecated; Function `plot_confusion_matrix` is deprecated in 1.0 and will be removed in 1.2. Use one of the class methods: ConfusionMatrixDisplay.from_predictions or ConfusionMatrixDisplay.from_estimator.\n",
      "  warnings.warn(msg, category=FutureWarning)\n"
     ]
    },
    {
     "data": {
      "text/plain": [
       "<sklearn.metrics._plot.confusion_matrix.ConfusionMatrixDisplay at 0x187ac95f3a0>"
      ]
     },
     "execution_count": 137,
     "metadata": {},
     "output_type": "execute_result"
    },
    {
     "data": {
      "image/png": "[encoded data removed]",
      "text/plain": [
       "<Figure size 432x288 with 2 Axes>"
      ]
     },
     "metadata": {
      "needs_background": "light"
     },
     "output_type": "display_data"
    }
   ],
   "source": [
    "plot_confusion_matrix(clf_svm,t_t()[1],  t_t()[3], values_format='d')"
   ]
  },
  {
   "cell_type": "code",
   "execution_count": null,
   "metadata": {},
   "outputs": [],
   "source": [
    "pca = PCA()"
   ]
  },
  {
   "cell_type": "code",
   "execution_count": 133,
   "metadata": {},
   "outputs": [],
   "source": [
    "def run():\n",
    "    # running the model and getting the accuracy\n",
    "    model_SVM = SVM(C = 100, sigma = 2, toler=0.001, maxIter=40)\n",
    "    b, alphas = model_SVM.fit(t_t()[0], t_t()[2])\n",
    "    y_test_hat = model_SVM.predict(t_t()[1])\n",
    "    accuracy = np.mean(y_test_hat == t_t()[3])\n",
    "    print(\"The accuracy of SVM is:\", accuracy)"
   ]
  },
  {
   "cell_type": "code",
   "execution_count": 120,
   "metadata": {},
   "outputs": [
    {
     "name": "stdout",
     "output_type": "stream",
     "text": [
      "The accuracy of SVM is: 0.010526315789473684\n"
     ]
    }
   ],
   "source": [
    "run()"
   ]
  },
  {
   "cell_type": "code",
   "execution_count": 134,
   "metadata": {},
   "outputs": [],
   "source": [
    "# def loadDataSet(dataset_path):\n",
    "#     data = pd.read_table(dataset_path, header=None)\n",
    "#     data_X, data_y = data.iloc[:, :-1], data.iloc[:, -1]\n",
    "#     data_X = np.array(data_X, dtype=np.float32)\n",
    "#     data_y = np.array(data_y, dtype=np.int64)\n",
    "#     data_y[data_y == 0] = -1\n",
    "#     return data_X, data_y"
   ]
  },
  {
   "cell_type": "code",
   "execution_count": 135,
   "metadata": {},
   "outputs": [],
   "source": [
    "# # read the data\n",
    "# X_train, y_train = loadDataSet(\"horseColicTraining.txt\") \n",
    "# X_test, y_test = loadDataSet(\"horseColicTest.txt\")\n",
    "# # normalize\n",
    "# scaler = MinMaxScaler()\n",
    "# scaler.fit(X_train)\n",
    "# X_train = scaler.transform(X_train)\n",
    "# X_test = scaler.transform(X_test)"
   ]
  },
  {
   "cell_type": "markdown",
   "metadata": {},
   "source": [
    "## New attempt with some data and implementation\n"
   ]
  },
  {
   "cell_type": "code",
   "execution_count": 1,
   "metadata": {},
   "outputs": [
    {
     "name": "stdout",
     "output_type": "stream",
     "text": [
      "     0    1     2     3     4     5     6     7          8          9  \\\n",
      "0  1.0  1.0  22.0  22.0  22.0  19.0  18.0  14.0  49.895756  17.775994   \n",
      "1  1.0  1.0  24.0  24.0  22.0  18.0  16.0  13.0  57.709936  23.799994   \n",
      "2  1.0  1.0  62.0  60.0  59.0  54.0  47.0  33.0  55.831441  27.993933   \n",
      "3  1.0  1.0  55.0  53.0  53.0  50.0  43.0  31.0  40.467228  18.445954   \n",
      "4  1.0  1.0  44.0  44.0  44.0  41.0  39.0  27.0  18.026254   8.570709   \n",
      "\n",
      "          10        11        12        13        14        15        16  \\\n",
      "0   5.270920  0.771761  0.018632  0.006864  0.003923  0.003923  0.486903   \n",
      "1   3.325423  0.234185  0.003903  0.003903  0.003903  0.003903  0.520908   \n",
      "2  12.687485  4.852282  1.393889  0.373252  0.041817  0.007744  0.530904   \n",
      "3   9.118901  3.079428  0.840261  0.272434  0.007653  0.001531  0.483284   \n",
      "4   0.410381  0.000000  0.000000  0.000000  0.000000  0.000000  0.475935   \n",
      "\n",
      "         17   18 Class  \n",
      "0  0.100025  1.0  b'0'  \n",
      "1  0.144414  0.0  b'0'  \n",
      "2  0.128548  0.0  b'1'  \n",
      "3  0.114790  0.0  b'0'  \n",
      "4  0.123572  0.0  b'1'  \n"
     ]
    }
   ],
   "source": [
    "# Import necessary libraries\n",
    "import pandas as pd\n",
    "import matplotlib.pyplot as plt\n",
    "import seaborn as sns\n",
    "import numpy as np\n",
    "from sklearn.linear_model import LogisticRegression\n",
    "from sklearn.preprocessing import StandardScaler\n",
    "from sklearn.model_selection import train_test_split, cross_val_score, KFold, GridSearchCV, RandomizedSearchCV\n",
    "from sklearn.metrics import roc_curve, f1_score, accuracy_score, recall_score, precision_score, auc, confusion_matrix\n",
    "from sklearn.pipeline import Pipeline\n",
    "from sklearn.dummy import DummyClassifier\n",
    "from sklearn.neighbors import KNeighborsClassifier\n",
    "from sklearn.ensemble import RandomForestClassifier\n",
    "from sklearn.svm import SVC\n",
    "from sklearn.base import BaseEstimator\n",
    "from sklearn.base import TransformerMixin\n",
    "from sklearn.pipeline import FeatureUnion, make_pipeline\n",
    "from sklearn.preprocessing import StandardScaler, OneHotEncoder\n",
    "from sklearn.compose import ColumnTransformer, make_column_transformer\n",
    "from sklearn.decomposition import PCA\n",
    "from scipy.stats import randint as sp_randint\n",
    "import warnings\n",
    "warnings.filterwarnings('ignore')\n",
    "\n",
    "data_dir = \"..\\..\\..\\data\\data_classification\"\n",
    "data_path = os.path.join(data_dir, \"messidor_classification.csv\")\n",
    "df = pd.read_csv(data_path, header=0)\n",
    "\n",
    "print(df.head())"
   ]
  },
  {
   "cell_type": "code",
   "execution_count": 2,
   "metadata": {},
   "outputs": [],
   "source": [
    "# Change column names so that we can keepy better track of each attribute.\n",
    "col_names = ['qual_assess','pre_screen','MA_detection_.5','MA_detection_.6','MA_detection_.7','MA_detection_.8',\n",
    "             'MA_detection_.9','MA_detection_1.0','exudate_detection_.3','exudate_detection_.4','exudate_detection_.5','exudate_detection_.6'\n",
    "             ,'exudate_detection_.7','exudate_detection_.8','exudate_detection_.9','exudate_detection_1.0',\n",
    "             'euc_dist','diam_opt_disc','AM/FM','class_label']\n",
    "df.columns = col_names"
   ]
  },
  {
   "cell_type": "code",
   "execution_count": 3,
   "metadata": {},
   "outputs": [],
   "source": [
    "# Extract binary class in numeric form (1 or 0) from string.\n",
    "df.class_label = df.class_label.apply(lambda x: pd.to_numeric(str(x)[2]))"
   ]
  },
  {
   "cell_type": "code",
   "execution_count": 4,
   "metadata": {},
   "outputs": [
    {
     "data": {
      "text/html": [
       "<div>\n",
       "<style scoped>\n",
       "    .dataframe tbody tr th:only-of-type {\n",
       "        vertical-align: middle;\n",
       "    }\n",
       "\n",
       "    .dataframe tbody tr th {\n",
       "        vertical-align: top;\n",
       "    }\n",
       "\n",
       "    .dataframe thead th {\n",
       "        text-align: right;\n",
       "    }\n",
       "</style>\n",
       "<table border=\"1\" class=\"dataframe\">\n",
       "  <thead>\n",
       "    <tr style=\"text-align: right;\">\n",
       "      <th></th>\n",
       "      <th>qual_assess</th>\n",
       "      <th>pre_screen</th>\n",
       "      <th>MA_detection_.5</th>\n",
       "      <th>MA_detection_.6</th>\n",
       "      <th>MA_detection_.7</th>\n",
       "      <th>MA_detection_.8</th>\n",
       "      <th>MA_detection_.9</th>\n",
       "      <th>MA_detection_1.0</th>\n",
       "      <th>exudate_detection_.3</th>\n",
       "      <th>exudate_detection_.4</th>\n",
       "      <th>exudate_detection_.5</th>\n",
       "      <th>exudate_detection_.6</th>\n",
       "      <th>exudate_detection_.7</th>\n",
       "      <th>exudate_detection_.8</th>\n",
       "      <th>exudate_detection_.9</th>\n",
       "      <th>exudate_detection_1.0</th>\n",
       "      <th>euc_dist</th>\n",
       "      <th>diam_opt_disc</th>\n",
       "      <th>AM/FM</th>\n",
       "      <th>class_label</th>\n",
       "    </tr>\n",
       "  </thead>\n",
       "  <tbody>\n",
       "    <tr>\n",
       "      <th>qual_assess</th>\n",
       "      <td>1.000000</td>\n",
       "      <td>-0.017611</td>\n",
       "      <td>0.035576</td>\n",
       "      <td>0.035929</td>\n",
       "      <td>0.033395</td>\n",
       "      <td>0.036506</td>\n",
       "      <td>0.034817</td>\n",
       "      <td>0.031889</td>\n",
       "      <td>0.063597</td>\n",
       "      <td>0.063061</td>\n",
       "      <td>0.044449</td>\n",
       "      <td>0.027656</td>\n",
       "      <td>0.013336</td>\n",
       "      <td>0.011864</td>\n",
       "      <td>0.012695</td>\n",
       "      <td>0.012289</td>\n",
       "      <td>-0.021943</td>\n",
       "      <td>-0.067325</td>\n",
       "      <td>-0.051723</td>\n",
       "      <td>0.062816</td>\n",
       "    </tr>\n",
       "    <tr>\n",
       "      <th>pre_screen</th>\n",
       "      <td>-0.017611</td>\n",
       "      <td>1.000000</td>\n",
       "      <td>0.053300</td>\n",
       "      <td>0.054839</td>\n",
       "      <td>0.053056</td>\n",
       "      <td>0.059063</td>\n",
       "      <td>0.060557</td>\n",
       "      <td>0.060152</td>\n",
       "      <td>0.062930</td>\n",
       "      <td>0.052453</td>\n",
       "      <td>0.053534</td>\n",
       "      <td>0.041607</td>\n",
       "      <td>0.015900</td>\n",
       "      <td>0.018950</td>\n",
       "      <td>0.023268</td>\n",
       "      <td>0.023861</td>\n",
       "      <td>0.004751</td>\n",
       "      <td>-0.079577</td>\n",
       "      <td>0.010782</td>\n",
       "      <td>-0.076925</td>\n",
       "    </tr>\n",
       "    <tr>\n",
       "      <th>MA_detection_.5</th>\n",
       "      <td>0.035576</td>\n",
       "      <td>0.053300</td>\n",
       "      <td>1.000000</td>\n",
       "      <td>0.996177</td>\n",
       "      <td>0.985730</td>\n",
       "      <td>0.963149</td>\n",
       "      <td>0.925274</td>\n",
       "      <td>0.859620</td>\n",
       "      <td>-0.229653</td>\n",
       "      <td>-0.103047</td>\n",
       "      <td>-0.044650</td>\n",
       "      <td>0.103035</td>\n",
       "      <td>0.134464</td>\n",
       "      <td>0.142917</td>\n",
       "      <td>0.196550</td>\n",
       "      <td>0.208422</td>\n",
       "      <td>0.000001</td>\n",
       "      <td>0.033992</td>\n",
       "      <td>-0.344317</td>\n",
       "      <td>0.292603</td>\n",
       "    </tr>\n",
       "    <tr>\n",
       "      <th>MA_detection_.6</th>\n",
       "      <td>0.035929</td>\n",
       "      <td>0.054839</td>\n",
       "      <td>0.996177</td>\n",
       "      <td>1.000000</td>\n",
       "      <td>0.994221</td>\n",
       "      <td>0.977030</td>\n",
       "      <td>0.944504</td>\n",
       "      <td>0.883511</td>\n",
       "      <td>-0.244704</td>\n",
       "      <td>-0.115253</td>\n",
       "      <td>-0.058364</td>\n",
       "      <td>0.086486</td>\n",
       "      <td>0.117895</td>\n",
       "      <td>0.124198</td>\n",
       "      <td>0.172633</td>\n",
       "      <td>0.185645</td>\n",
       "      <td>0.001953</td>\n",
       "      <td>0.034714</td>\n",
       "      <td>-0.360716</td>\n",
       "      <td>0.266338</td>\n",
       "    </tr>\n",
       "    <tr>\n",
       "      <th>MA_detection_.7</th>\n",
       "      <td>0.033395</td>\n",
       "      <td>0.053056</td>\n",
       "      <td>0.985730</td>\n",
       "      <td>0.994221</td>\n",
       "      <td>1.000000</td>\n",
       "      <td>0.991821</td>\n",
       "      <td>0.968676</td>\n",
       "      <td>0.916198</td>\n",
       "      <td>-0.283188</td>\n",
       "      <td>-0.139111</td>\n",
       "      <td>-0.086595</td>\n",
       "      <td>0.057769</td>\n",
       "      <td>0.094513</td>\n",
       "      <td>0.098859</td>\n",
       "      <td>0.140774</td>\n",
       "      <td>0.156441</td>\n",
       "      <td>0.000387</td>\n",
       "      <td>0.030396</td>\n",
       "      <td>-0.389384</td>\n",
       "      <td>0.234691</td>\n",
       "    </tr>\n",
       "    <tr>\n",
       "      <th>MA_detection_.8</th>\n",
       "      <td>0.036506</td>\n",
       "      <td>0.059063</td>\n",
       "      <td>0.963149</td>\n",
       "      <td>0.977030</td>\n",
       "      <td>0.991821</td>\n",
       "      <td>1.000000</td>\n",
       "      <td>0.988294</td>\n",
       "      <td>0.947860</td>\n",
       "      <td>-0.309950</td>\n",
       "      <td>-0.160011</td>\n",
       "      <td>-0.109946</td>\n",
       "      <td>0.029768</td>\n",
       "      <td>0.067477</td>\n",
       "      <td>0.069797</td>\n",
       "      <td>0.102638</td>\n",
       "      <td>0.119405</td>\n",
       "      <td>0.001520</td>\n",
       "      <td>0.016854</td>\n",
       "      <td>-0.411806</td>\n",
       "      <td>0.197511</td>\n",
       "    </tr>\n",
       "    <tr>\n",
       "      <th>MA_detection_.9</th>\n",
       "      <td>0.034817</td>\n",
       "      <td>0.060557</td>\n",
       "      <td>0.925274</td>\n",
       "      <td>0.944504</td>\n",
       "      <td>0.968676</td>\n",
       "      <td>0.988294</td>\n",
       "      <td>1.000000</td>\n",
       "      <td>0.974577</td>\n",
       "      <td>-0.349811</td>\n",
       "      <td>-0.197279</td>\n",
       "      <td>-0.152578</td>\n",
       "      <td>-0.020469</td>\n",
       "      <td>0.022265</td>\n",
       "      <td>0.024959</td>\n",
       "      <td>0.050579</td>\n",
       "      <td>0.070735</td>\n",
       "      <td>-0.001725</td>\n",
       "      <td>0.010961</td>\n",
       "      <td>-0.437036</td>\n",
       "      <td>0.161631</td>\n",
       "    </tr>\n",
       "    <tr>\n",
       "      <th>MA_detection_1.0</th>\n",
       "      <td>0.031889</td>\n",
       "      <td>0.060152</td>\n",
       "      <td>0.859620</td>\n",
       "      <td>0.883511</td>\n",
       "      <td>0.916198</td>\n",
       "      <td>0.947860</td>\n",
       "      <td>0.974577</td>\n",
       "      <td>1.000000</td>\n",
       "      <td>-0.375506</td>\n",
       "      <td>-0.223681</td>\n",
       "      <td>-0.181197</td>\n",
       "      <td>-0.058153</td>\n",
       "      <td>-0.012400</td>\n",
       "      <td>-0.012175</td>\n",
       "      <td>0.006868</td>\n",
       "      <td>0.031520</td>\n",
       "      <td>-0.002557</td>\n",
       "      <td>-0.011607</td>\n",
       "      <td>-0.435127</td>\n",
       "      <td>0.127861</td>\n",
       "    </tr>\n",
       "    <tr>\n",
       "      <th>exudate_detection_.3</th>\n",
       "      <td>0.063597</td>\n",
       "      <td>0.062930</td>\n",
       "      <td>-0.229653</td>\n",
       "      <td>-0.244704</td>\n",
       "      <td>-0.283188</td>\n",
       "      <td>-0.309950</td>\n",
       "      <td>-0.349811</td>\n",
       "      <td>-0.375506</td>\n",
       "      <td>1.000000</td>\n",
       "      <td>0.767091</td>\n",
       "      <td>0.763409</td>\n",
       "      <td>0.486606</td>\n",
       "      <td>0.163915</td>\n",
       "      <td>0.132227</td>\n",
       "      <td>0.114722</td>\n",
       "      <td>0.084682</td>\n",
       "      <td>-0.086155</td>\n",
       "      <td>-0.086474</td>\n",
       "      <td>0.390304</td>\n",
       "      <td>0.058015</td>\n",
       "    </tr>\n",
       "    <tr>\n",
       "      <th>exudate_detection_.4</th>\n",
       "      <td>0.063061</td>\n",
       "      <td>0.052453</td>\n",
       "      <td>-0.103047</td>\n",
       "      <td>-0.115253</td>\n",
       "      <td>-0.139111</td>\n",
       "      <td>-0.160011</td>\n",
       "      <td>-0.197279</td>\n",
       "      <td>-0.223681</td>\n",
       "      <td>0.767091</td>\n",
       "      <td>1.000000</td>\n",
       "      <td>0.919589</td>\n",
       "      <td>0.624537</td>\n",
       "      <td>0.257159</td>\n",
       "      <td>0.216127</td>\n",
       "      <td>0.181431</td>\n",
       "      <td>0.139196</td>\n",
       "      <td>-0.128990</td>\n",
       "      <td>-0.090721</td>\n",
       "      <td>0.291554</td>\n",
       "      <td>0.000479</td>\n",
       "    </tr>\n",
       "    <tr>\n",
       "      <th>exudate_detection_.5</th>\n",
       "      <td>0.044449</td>\n",
       "      <td>0.053534</td>\n",
       "      <td>-0.044650</td>\n",
       "      <td>-0.058364</td>\n",
       "      <td>-0.086595</td>\n",
       "      <td>-0.109946</td>\n",
       "      <td>-0.152578</td>\n",
       "      <td>-0.181197</td>\n",
       "      <td>0.763409</td>\n",
       "      <td>0.919589</td>\n",
       "      <td>1.000000</td>\n",
       "      <td>0.780891</td>\n",
       "      <td>0.383977</td>\n",
       "      <td>0.328839</td>\n",
       "      <td>0.273616</td>\n",
       "      <td>0.214250</td>\n",
       "      <td>-0.128006</td>\n",
       "      <td>-0.098866</td>\n",
       "      <td>0.284990</td>\n",
       "      <td>0.038281</td>\n",
       "    </tr>\n",
       "    <tr>\n",
       "      <th>exudate_detection_.6</th>\n",
       "      <td>0.027656</td>\n",
       "      <td>0.041607</td>\n",
       "      <td>0.103035</td>\n",
       "      <td>0.086486</td>\n",
       "      <td>0.057769</td>\n",
       "      <td>0.029768</td>\n",
       "      <td>-0.020469</td>\n",
       "      <td>-0.058153</td>\n",
       "      <td>0.486606</td>\n",
       "      <td>0.624537</td>\n",
       "      <td>0.780891</td>\n",
       "      <td>1.000000</td>\n",
       "      <td>0.825772</td>\n",
       "      <td>0.758195</td>\n",
       "      <td>0.636787</td>\n",
       "      <td>0.518501</td>\n",
       "      <td>-0.167954</td>\n",
       "      <td>-0.090738</td>\n",
       "      <td>0.172499</td>\n",
       "      <td>0.104254</td>\n",
       "    </tr>\n",
       "    <tr>\n",
       "      <th>exudate_detection_.7</th>\n",
       "      <td>0.013336</td>\n",
       "      <td>0.015900</td>\n",
       "      <td>0.134464</td>\n",
       "      <td>0.117895</td>\n",
       "      <td>0.094513</td>\n",
       "      <td>0.067477</td>\n",
       "      <td>0.022265</td>\n",
       "      <td>-0.012400</td>\n",
       "      <td>0.163915</td>\n",
       "      <td>0.257159</td>\n",
       "      <td>0.383977</td>\n",
       "      <td>0.825772</td>\n",
       "      <td>1.000000</td>\n",
       "      <td>0.931661</td>\n",
       "      <td>0.772151</td>\n",
       "      <td>0.625245</td>\n",
       "      <td>-0.149553</td>\n",
       "      <td>-0.058645</td>\n",
       "      <td>0.072363</td>\n",
       "      <td>0.142273</td>\n",
       "    </tr>\n",
       "    <tr>\n",
       "      <th>exudate_detection_.8</th>\n",
       "      <td>0.011864</td>\n",
       "      <td>0.018950</td>\n",
       "      <td>0.142917</td>\n",
       "      <td>0.124198</td>\n",
       "      <td>0.098859</td>\n",
       "      <td>0.069797</td>\n",
       "      <td>0.024959</td>\n",
       "      <td>-0.012175</td>\n",
       "      <td>0.132227</td>\n",
       "      <td>0.216127</td>\n",
       "      <td>0.328839</td>\n",
       "      <td>0.758195</td>\n",
       "      <td>0.931661</td>\n",
       "      <td>1.000000</td>\n",
       "      <td>0.906374</td>\n",
       "      <td>0.782185</td>\n",
       "      <td>-0.150996</td>\n",
       "      <td>-0.060441</td>\n",
       "      <td>0.053580</td>\n",
       "      <td>0.151424</td>\n",
       "    </tr>\n",
       "    <tr>\n",
       "      <th>exudate_detection_.9</th>\n",
       "      <td>0.012695</td>\n",
       "      <td>0.023268</td>\n",
       "      <td>0.196550</td>\n",
       "      <td>0.172633</td>\n",
       "      <td>0.140774</td>\n",
       "      <td>0.102638</td>\n",
       "      <td>0.050579</td>\n",
       "      <td>0.006868</td>\n",
       "      <td>0.114722</td>\n",
       "      <td>0.181431</td>\n",
       "      <td>0.273616</td>\n",
       "      <td>0.636787</td>\n",
       "      <td>0.772151</td>\n",
       "      <td>0.906374</td>\n",
       "      <td>1.000000</td>\n",
       "      <td>0.943460</td>\n",
       "      <td>-0.122688</td>\n",
       "      <td>-0.039783</td>\n",
       "      <td>0.040861</td>\n",
       "      <td>0.184772</td>\n",
       "    </tr>\n",
       "    <tr>\n",
       "      <th>exudate_detection_1.0</th>\n",
       "      <td>0.012289</td>\n",
       "      <td>0.023861</td>\n",
       "      <td>0.208422</td>\n",
       "      <td>0.185645</td>\n",
       "      <td>0.156441</td>\n",
       "      <td>0.119405</td>\n",
       "      <td>0.070735</td>\n",
       "      <td>0.031520</td>\n",
       "      <td>0.084682</td>\n",
       "      <td>0.139196</td>\n",
       "      <td>0.214250</td>\n",
       "      <td>0.518501</td>\n",
       "      <td>0.625245</td>\n",
       "      <td>0.782185</td>\n",
       "      <td>0.943460</td>\n",
       "      <td>1.000000</td>\n",
       "      <td>-0.097073</td>\n",
       "      <td>-0.019091</td>\n",
       "      <td>0.028232</td>\n",
       "      <td>0.177313</td>\n",
       "    </tr>\n",
       "    <tr>\n",
       "      <th>euc_dist</th>\n",
       "      <td>-0.021943</td>\n",
       "      <td>0.004751</td>\n",
       "      <td>0.000001</td>\n",
       "      <td>0.001953</td>\n",
       "      <td>0.000387</td>\n",
       "      <td>0.001520</td>\n",
       "      <td>-0.001725</td>\n",
       "      <td>-0.002557</td>\n",
       "      <td>-0.086155</td>\n",
       "      <td>-0.128990</td>\n",
       "      <td>-0.128006</td>\n",
       "      <td>-0.167954</td>\n",
       "      <td>-0.149553</td>\n",
       "      <td>-0.150996</td>\n",
       "      <td>-0.122688</td>\n",
       "      <td>-0.097073</td>\n",
       "      <td>1.000000</td>\n",
       "      <td>-0.131497</td>\n",
       "      <td>-0.009871</td>\n",
       "      <td>0.008466</td>\n",
       "    </tr>\n",
       "    <tr>\n",
       "      <th>diam_opt_disc</th>\n",
       "      <td>-0.067325</td>\n",
       "      <td>-0.079577</td>\n",
       "      <td>0.033992</td>\n",
       "      <td>0.034714</td>\n",
       "      <td>0.030396</td>\n",
       "      <td>0.016854</td>\n",
       "      <td>0.010961</td>\n",
       "      <td>-0.011607</td>\n",
       "      <td>-0.086474</td>\n",
       "      <td>-0.090721</td>\n",
       "      <td>-0.098866</td>\n",
       "      <td>-0.090738</td>\n",
       "      <td>-0.058645</td>\n",
       "      <td>-0.060441</td>\n",
       "      <td>-0.039783</td>\n",
       "      <td>-0.019091</td>\n",
       "      <td>-0.131497</td>\n",
       "      <td>1.000000</td>\n",
       "      <td>-0.082398</td>\n",
       "      <td>-0.030868</td>\n",
       "    </tr>\n",
       "    <tr>\n",
       "      <th>AM/FM</th>\n",
       "      <td>-0.051723</td>\n",
       "      <td>0.010782</td>\n",
       "      <td>-0.344317</td>\n",
       "      <td>-0.360716</td>\n",
       "      <td>-0.389384</td>\n",
       "      <td>-0.411806</td>\n",
       "      <td>-0.437036</td>\n",
       "      <td>-0.435127</td>\n",
       "      <td>0.390304</td>\n",
       "      <td>0.291554</td>\n",
       "      <td>0.284990</td>\n",
       "      <td>0.172499</td>\n",
       "      <td>0.072363</td>\n",
       "      <td>0.053580</td>\n",
       "      <td>0.040861</td>\n",
       "      <td>0.028232</td>\n",
       "      <td>-0.009871</td>\n",
       "      <td>-0.082398</td>\n",
       "      <td>1.000000</td>\n",
       "      <td>-0.042144</td>\n",
       "    </tr>\n",
       "    <tr>\n",
       "      <th>class_label</th>\n",
       "      <td>0.062816</td>\n",
       "      <td>-0.076925</td>\n",
       "      <td>0.292603</td>\n",
       "      <td>0.266338</td>\n",
       "      <td>0.234691</td>\n",
       "      <td>0.197511</td>\n",
       "      <td>0.161631</td>\n",
       "      <td>0.127861</td>\n",
       "      <td>0.058015</td>\n",
       "      <td>0.000479</td>\n",
       "      <td>0.038281</td>\n",
       "      <td>0.104254</td>\n",
       "      <td>0.142273</td>\n",
       "      <td>0.151424</td>\n",
       "      <td>0.184772</td>\n",
       "      <td>0.177313</td>\n",
       "      <td>0.008466</td>\n",
       "      <td>-0.030868</td>\n",
       "      <td>-0.042144</td>\n",
       "      <td>1.000000</td>\n",
       "    </tr>\n",
       "  </tbody>\n",
       "</table>\n",
       "</div>"
      ],
      "text/plain": [
       "                       qual_assess  pre_screen  MA_detection_.5  \\\n",
       "qual_assess               1.000000   -0.017611         0.035576   \n",
       "pre_screen               -0.017611    1.000000         0.053300   \n",
       "MA_detection_.5           0.035576    0.053300         1.000000   \n",
       "MA_detection_.6           0.035929    0.054839         0.996177   \n",
       "MA_detection_.7           0.033395    0.053056         0.985730   \n",
       "MA_detection_.8           0.036506    0.059063         0.963149   \n",
       "MA_detection_.9           0.034817    0.060557         0.925274   \n",
       "MA_detection_1.0          0.031889    0.060152         0.859620   \n",
       "exudate_detection_.3      0.063597    0.062930        -0.229653   \n",
       "exudate_detection_.4      0.063061    0.052453        -0.103047   \n",
       "exudate_detection_.5      0.044449    0.053534        -0.044650   \n",
       "exudate_detection_.6      0.027656    0.041607         0.103035   \n",
       "exudate_detection_.7      0.013336    0.015900         0.134464   \n",
       "exudate_detection_.8      0.011864    0.018950         0.142917   \n",
       "exudate_detection_.9      0.012695    0.023268         0.196550   \n",
       "exudate_detection_1.0     0.012289    0.023861         0.208422   \n",
       "euc_dist                 -0.021943    0.004751         0.000001   \n",
       "diam_opt_disc            -0.067325   -0.079577         0.033992   \n",
       "AM/FM                    -0.051723    0.010782        -0.344317   \n",
       "class_label               0.062816   -0.076925         0.292603   \n",
       "\n",
       "                       MA_detection_.6  MA_detection_.7  MA_detection_.8  \\\n",
       "qual_assess                   0.035929         0.033395         0.036506   \n",
       "pre_screen                    0.054839         0.053056         0.059063   \n",
       "MA_detection_.5               0.996177         0.985730         0.963149   \n",
       "MA_detection_.6               1.000000         0.994221         0.977030   \n",
       "MA_detection_.7               0.994221         1.000000         0.991821   \n",
       "MA_detection_.8               0.977030         0.991821         1.000000   \n",
       "MA_detection_.9               0.944504         0.968676         0.988294   \n",
       "MA_detection_1.0              0.883511         0.916198         0.947860   \n",
       "exudate_detection_.3         -0.244704        -0.283188        -0.309950   \n",
       "exudate_detection_.4         -0.115253        -0.139111        -0.160011   \n",
       "exudate_detection_.5         -0.058364        -0.086595        -0.109946   \n",
       "exudate_detection_.6          0.086486         0.057769         0.029768   \n",
       "exudate_detection_.7          0.117895         0.094513         0.067477   \n",
       "exudate_detection_.8          0.124198         0.098859         0.069797   \n",
       "exudate_detection_.9          0.172633         0.140774         0.102638   \n",
       "exudate_detection_1.0         0.185645         0.156441         0.119405   \n",
       "euc_dist                      0.001953         0.000387         0.001520   \n",
       "diam_opt_disc                 0.034714         0.030396         0.016854   \n",
       "AM/FM                        -0.360716        -0.389384        -0.411806   \n",
       "class_label                   0.266338         0.234691         0.197511   \n",
       "\n",
       "                       MA_detection_.9  MA_detection_1.0  \\\n",
       "qual_assess                   0.034817          0.031889   \n",
       "pre_screen                    0.060557          0.060152   \n",
       "MA_detection_.5               0.925274          0.859620   \n",
       "MA_detection_.6               0.944504          0.883511   \n",
       "MA_detection_.7               0.968676          0.916198   \n",
       "MA_detection_.8               0.988294          0.947860   \n",
       "MA_detection_.9               1.000000          0.974577   \n",
       "MA_detection_1.0              0.974577          1.000000   \n",
       "exudate_detection_.3         -0.349811         -0.375506   \n",
       "exudate_detection_.4         -0.197279         -0.223681   \n",
       "exudate_detection_.5         -0.152578         -0.181197   \n",
       "exudate_detection_.6         -0.020469         -0.058153   \n",
       "exudate_detection_.7          0.022265         -0.012400   \n",
       "exudate_detection_.8          0.024959         -0.012175   \n",
       "exudate_detection_.9          0.050579          0.006868   \n",
       "exudate_detection_1.0         0.070735          0.031520   \n",
       "euc_dist                     -0.001725         -0.002557   \n",
       "diam_opt_disc                 0.010961         -0.011607   \n",
       "AM/FM                        -0.437036         -0.435127   \n",
       "class_label                   0.161631          0.127861   \n",
       "\n",
       "                       exudate_detection_.3  exudate_detection_.4  \\\n",
       "qual_assess                        0.063597              0.063061   \n",
       "pre_screen                         0.062930              0.052453   \n",
       "MA_detection_.5                   -0.229653             -0.103047   \n",
       "MA_detection_.6                   -0.244704             -0.115253   \n",
       "MA_detection_.7                   -0.283188             -0.139111   \n",
       "MA_detection_.8                   -0.309950             -0.160011   \n",
       "MA_detection_.9                   -0.349811             -0.197279   \n",
       "MA_detection_1.0                  -0.375506             -0.223681   \n",
       "exudate_detection_.3               1.000000              0.767091   \n",
       "exudate_detection_.4               0.767091              1.000000   \n",
       "exudate_detection_.5               0.763409              0.919589   \n",
       "exudate_detection_.6               0.486606              0.624537   \n",
       "exudate_detection_.7               0.163915              0.257159   \n",
       "exudate_detection_.8               0.132227              0.216127   \n",
       "exudate_detection_.9               0.114722              0.181431   \n",
       "exudate_detection_1.0              0.084682              0.139196   \n",
       "euc_dist                          -0.086155             -0.128990   \n",
       "diam_opt_disc                     -0.086474             -0.090721   \n",
       "AM/FM                              0.390304              0.291554   \n",
       "class_label                        0.058015              0.000479   \n",
       "\n",
       "                       exudate_detection_.5  exudate_detection_.6  \\\n",
       "qual_assess                        0.044449              0.027656   \n",
       "pre_screen                         0.053534              0.041607   \n",
       "MA_detection_.5                   -0.044650              0.103035   \n",
       "MA_detection_.6                   -0.058364              0.086486   \n",
       "MA_detection_.7                   -0.086595              0.057769   \n",
       "MA_detection_.8                   -0.109946              0.029768   \n",
       "MA_detection_.9                   -0.152578             -0.020469   \n",
       "MA_detection_1.0                  -0.181197             -0.058153   \n",
       "exudate_detection_.3               0.763409              0.486606   \n",
       "exudate_detection_.4               0.919589              0.624537   \n",
       "exudate_detection_.5               1.000000              0.780891   \n",
       "exudate_detection_.6               0.780891              1.000000   \n",
       "exudate_detection_.7               0.383977              0.825772   \n",
       "exudate_detection_.8               0.328839              0.758195   \n",
       "exudate_detection_.9               0.273616              0.636787   \n",
       "exudate_detection_1.0              0.214250              0.518501   \n",
       "euc_dist                          -0.128006             -0.167954   \n",
       "diam_opt_disc                     -0.098866             -0.090738   \n",
       "AM/FM                              0.284990              0.172499   \n",
       "class_label                        0.038281              0.104254   \n",
       "\n",
       "                       exudate_detection_.7  exudate_detection_.8  \\\n",
       "qual_assess                        0.013336              0.011864   \n",
       "pre_screen                         0.015900              0.018950   \n",
       "MA_detection_.5                    0.134464              0.142917   \n",
       "MA_detection_.6                    0.117895              0.124198   \n",
       "MA_detection_.7                    0.094513              0.098859   \n",
       "MA_detection_.8                    0.067477              0.069797   \n",
       "MA_detection_.9                    0.022265              0.024959   \n",
       "MA_detection_1.0                  -0.012400             -0.012175   \n",
       "exudate_detection_.3               0.163915              0.132227   \n",
       "exudate_detection_.4               0.257159              0.216127   \n",
       "exudate_detection_.5               0.383977              0.328839   \n",
       "exudate_detection_.6               0.825772              0.758195   \n",
       "exudate_detection_.7               1.000000              0.931661   \n",
       "exudate_detection_.8               0.931661              1.000000   \n",
       "exudate_detection_.9               0.772151              0.906374   \n",
       "exudate_detection_1.0              0.625245              0.782185   \n",
       "euc_dist                          -0.149553             -0.150996   \n",
       "diam_opt_disc                     -0.058645             -0.060441   \n",
       "AM/FM                              0.072363              0.053580   \n",
       "class_label                        0.142273              0.151424   \n",
       "\n",
       "                       exudate_detection_.9  exudate_detection_1.0  euc_dist  \\\n",
       "qual_assess                        0.012695               0.012289 -0.021943   \n",
       "pre_screen                         0.023268               0.023861  0.004751   \n",
       "MA_detection_.5                    0.196550               0.208422  0.000001   \n",
       "MA_detection_.6                    0.172633               0.185645  0.001953   \n",
       "MA_detection_.7                    0.140774               0.156441  0.000387   \n",
       "MA_detection_.8                    0.102638               0.119405  0.001520   \n",
       "MA_detection_.9                    0.050579               0.070735 -0.001725   \n",
       "MA_detection_1.0                   0.006868               0.031520 -0.002557   \n",
       "exudate_detection_.3               0.114722               0.084682 -0.086155   \n",
       "exudate_detection_.4               0.181431               0.139196 -0.128990   \n",
       "exudate_detection_.5               0.273616               0.214250 -0.128006   \n",
       "exudate_detection_.6               0.636787               0.518501 -0.167954   \n",
       "exudate_detection_.7               0.772151               0.625245 -0.149553   \n",
       "exudate_detection_.8               0.906374               0.782185 -0.150996   \n",
       "exudate_detection_.9               1.000000               0.943460 -0.122688   \n",
       "exudate_detection_1.0              0.943460               1.000000 -0.097073   \n",
       "euc_dist                          -0.122688              -0.097073  1.000000   \n",
       "diam_opt_disc                     -0.039783              -0.019091 -0.131497   \n",
       "AM/FM                              0.040861               0.028232 -0.009871   \n",
       "class_label                        0.184772               0.177313  0.008466   \n",
       "\n",
       "                       diam_opt_disc     AM/FM  class_label  \n",
       "qual_assess                -0.067325 -0.051723     0.062816  \n",
       "pre_screen                 -0.079577  0.010782    -0.076925  \n",
       "MA_detection_.5             0.033992 -0.344317     0.292603  \n",
       "MA_detection_.6             0.034714 -0.360716     0.266338  \n",
       "MA_detection_.7             0.030396 -0.389384     0.234691  \n",
       "MA_detection_.8             0.016854 -0.411806     0.197511  \n",
       "MA_detection_.9             0.010961 -0.437036     0.161631  \n",
       "MA_detection_1.0           -0.011607 -0.435127     0.127861  \n",
       "exudate_detection_.3       -0.086474  0.390304     0.058015  \n",
       "exudate_detection_.4       -0.090721  0.291554     0.000479  \n",
       "exudate_detection_.5       -0.098866  0.284990     0.038281  \n",
       "exudate_detection_.6       -0.090738  0.172499     0.104254  \n",
       "exudate_detection_.7       -0.058645  0.072363     0.142273  \n",
       "exudate_detection_.8       -0.060441  0.053580     0.151424  \n",
       "exudate_detection_.9       -0.039783  0.040861     0.184772  \n",
       "exudate_detection_1.0      -0.019091  0.028232     0.177313  \n",
       "euc_dist                   -0.131497 -0.009871     0.008466  \n",
       "diam_opt_disc               1.000000 -0.082398    -0.030868  \n",
       "AM/FM                      -0.082398  1.000000    -0.042144  \n",
       "class_label                -0.030868 -0.042144     1.000000  "
      ]
     },
     "execution_count": 4,
     "metadata": {},
     "output_type": "execute_result"
    }
   ],
   "source": [
    "# Check for high correlation among features\n",
    "df.corr()"
   ]
  },
  {
   "cell_type": "code",
   "execution_count": 5,
   "metadata": {},
   "outputs": [
    {
     "data": {
      "text/plain": [
       "<AxesSubplot:>"
      ]
     },
     "execution_count": 5,
     "metadata": {},
     "output_type": "execute_result"
    },
    {
     "data": {
      "image/png": "[encoded data removed]",
      "text/plain": [
       "<Figure size 720x720 with 2 Axes>"
      ]
     },
     "metadata": {
      "needs_background": "light"
     },
     "output_type": "display_data"
    }
   ],
   "source": [
    "# Heatmap of correlation above 0.8.\n",
    "fig = plt.figure(figsize = (10,10))\n",
    "sns.heatmap(abs(df.corr()) > .8)"
   ]
  },
  {
   "cell_type": "code",
   "execution_count": 6,
   "metadata": {},
   "outputs": [],
   "source": [
    "# Since we will need to drop all but 1 of the MA features, we will try 6 different datasets, each keeping a\n",
    "# different MA feature. Initialize these data frames by backing copy of original.\n",
    "\n",
    "df_MA5 = df.copy()\n",
    "df_MA6 = df.copy()\n",
    "df_MA7 = df.copy()\n",
    "df_MA8 = df.copy()\n",
    "df_MA9 = df.copy()\n",
    "df_MA10 = df.copy()"
   ]
  },
  {
   "cell_type": "code",
   "execution_count": 7,
   "metadata": {},
   "outputs": [],
   "source": [
    "# For each new dataframe, specify the MA columns we want to drop (all but 1). Also drop every other exudate\n",
    "# detection column for all datasets. This will eliminate correlation among exudate features.\n",
    "\n",
    "drop_5 = ['MA_detection_1.0','MA_detection_.6','MA_detection_.7','MA_detection_.8',\n",
    "             'MA_detection_.9', 'exudate_detection_.4','exudate_detection_.6','exudate_detection_.8',\n",
    "                  'exudate_detection_1.0']\n",
    "drop_6 = ['MA_detection_.5','MA_detection_1.0','MA_detection_.7','MA_detection_.8',\n",
    "             'MA_detection_.9', 'exudate_detection_.4','exudate_detection_.6','exudate_detection_.8',\n",
    "                  'exudate_detection_1.0']\n",
    "drop_7 = ['MA_detection_.5','MA_detection_.6','MA_detection_1.0','MA_detection_.8',\n",
    "             'MA_detection_.9', 'exudate_detection_.4','exudate_detection_.6','exudate_detection_.8',\n",
    "                  'exudate_detection_1.0']\n",
    "drop_8 = ['MA_detection_.5','MA_detection_.6','MA_detection_.7','MA_detection_1.0',\n",
    "             'MA_detection_.9', 'exudate_detection_.4','exudate_detection_.6','exudate_detection_.8',\n",
    "                  'exudate_detection_1.0']\n",
    "drop_9 = ['MA_detection_.5','MA_detection_.6','MA_detection_.7','MA_detection_.8',\n",
    "             'MA_detection_1.0', 'exudate_detection_.4','exudate_detection_.6','exudate_detection_.8',\n",
    "                  'exudate_detection_1.0']\n",
    "drop_10 = ['MA_detection_.5','MA_detection_.6','MA_detection_.7','MA_detection_.8',\n",
    "             'MA_detection_.9', 'exudate_detection_.4','exudate_detection_.6','exudate_detection_.8',\n",
    "                  'exudate_detection_1.0']"
   ]
  },
  {
   "cell_type": "code",
   "execution_count": 8,
   "metadata": {},
   "outputs": [],
   "source": [
    "# Drop appropriate columns to create these dataframes.\n",
    "\n",
    "df_MA5.drop(columns = drop_5, inplace = True)\n",
    "df_MA6.drop(columns = drop_6, inplace = True)\n",
    "df_MA7.drop(columns = drop_7, inplace = True)\n",
    "df_MA8.drop(columns = drop_8, inplace = True)\n",
    "df_MA9.drop(columns = drop_9, inplace = True)\n",
    "df_MA10.drop(columns = drop_10, inplace = True)"
   ]
  },
  {
   "cell_type": "code",
   "execution_count": 9,
   "metadata": {},
   "outputs": [
    {
     "name": "stdout",
     "output_type": "stream",
     "text": [
      "Index(['qual_assess', 'pre_screen', 'MA_detection_.5', 'exudate_detection_.3',\n",
      "       'exudate_detection_.5', 'exudate_detection_.7', 'exudate_detection_.9',\n",
      "       'euc_dist', 'diam_opt_disc', 'AM/FM', 'class_label'],\n",
      "      dtype='object')\n",
      "Index(['qual_assess', 'pre_screen', 'MA_detection_.6', 'exudate_detection_.3',\n",
      "       'exudate_detection_.5', 'exudate_detection_.7', 'exudate_detection_.9',\n",
      "       'euc_dist', 'diam_opt_disc', 'AM/FM', 'class_label'],\n",
      "      dtype='object')\n",
      "Index(['qual_assess', 'pre_screen', 'MA_detection_.7', 'exudate_detection_.3',\n",
      "       'exudate_detection_.5', 'exudate_detection_.7', 'exudate_detection_.9',\n",
      "       'euc_dist', 'diam_opt_disc', 'AM/FM', 'class_label'],\n",
      "      dtype='object')\n",
      "Index(['qual_assess', 'pre_screen', 'MA_detection_.8', 'exudate_detection_.3',\n",
      "       'exudate_detection_.5', 'exudate_detection_.7', 'exudate_detection_.9',\n",
      "       'euc_dist', 'diam_opt_disc', 'AM/FM', 'class_label'],\n",
      "      dtype='object')\n",
      "Index(['qual_assess', 'pre_screen', 'MA_detection_.9', 'exudate_detection_.3',\n",
      "       'exudate_detection_.5', 'exudate_detection_.7', 'exudate_detection_.9',\n",
      "       'euc_dist', 'diam_opt_disc', 'AM/FM', 'class_label'],\n",
      "      dtype='object')\n",
      "Index(['qual_assess', 'pre_screen', 'MA_detection_1.0', 'exudate_detection_.3',\n",
      "       'exudate_detection_.5', 'exudate_detection_.7', 'exudate_detection_.9',\n",
      "       'euc_dist', 'diam_opt_disc', 'AM/FM', 'class_label'],\n",
      "      dtype='object')\n"
     ]
    }
   ],
   "source": [
    "# Check to make sure the desired result is achieved. \n",
    "\n",
    "print(df_MA5.columns)\n",
    "print(df_MA6.columns)\n",
    "print(df_MA7.columns)\n",
    "print(df_MA8.columns)\n",
    "print(df_MA9.columns)\n",
    "print(df_MA10.columns)"
   ]
  },
  {
   "cell_type": "code",
   "execution_count": 10,
   "metadata": {},
   "outputs": [
    {
     "data": {
      "text/plain": [
       "<AxesSubplot:>"
      ]
     },
     "execution_count": 10,
     "metadata": {},
     "output_type": "execute_result"
    },
    {
     "data": {
      "image/png": "[encoded data removed]",
      "text/plain": [
       "<Figure size 360x360 with 2 Axes>"
      ]
     },
     "metadata": {
      "needs_background": "light"
     },
     "output_type": "display_data"
    }
   ],
   "source": [
    "# Check the correlation of each dataframe. \n",
    "\n",
    "fig = plt.figure(figsize = (5,5))\n",
    "sns.heatmap(abs(df_MA5.corr()) > .8)"
   ]
  },
  {
   "cell_type": "code",
   "execution_count": 11,
   "metadata": {},
   "outputs": [
    {
     "data": {
      "text/plain": [
       "<AxesSubplot:>"
      ]
     },
     "execution_count": 11,
     "metadata": {},
     "output_type": "execute_result"
    },
    {
     "data": {
      "image/png": "[encoded data removed]",
      "text/plain": [
       "<Figure size 360x360 with 2 Axes>"
      ]
     },
     "metadata": {
      "needs_background": "light"
     },
     "output_type": "display_data"
    }
   ],
   "source": [
    "fig = plt.figure(figsize = (5,5))\n",
    "sns.heatmap(abs(df_MA6.corr()) > .8)"
   ]
  },
  {
   "cell_type": "code",
   "execution_count": 12,
   "metadata": {},
   "outputs": [
    {
     "data": {
      "text/plain": [
       "<AxesSubplot:>"
      ]
     },
     "execution_count": 12,
     "metadata": {},
     "output_type": "execute_result"
    },
    {
     "data": {
      "image/png": "[encoded data removed]",
      "text/plain": [
       "<Figure size 360x360 with 2 Axes>"
      ]
     },
     "metadata": {
      "needs_background": "light"
     },
     "output_type": "display_data"
    }
   ],
   "source": [
    "fig = plt.figure(figsize = (5,5))\n",
    "sns.heatmap(abs(df_MA7.corr()) > .8)"
   ]
  },
  {
   "cell_type": "code",
   "execution_count": 13,
   "metadata": {},
   "outputs": [
    {
     "data": {
      "text/plain": [
       "<AxesSubplot:>"
      ]
     },
     "execution_count": 13,
     "metadata": {},
     "output_type": "execute_result"
    },
    {
     "data": {
      "image/png": "[encoded data removed]",
      "text/plain": [
       "<Figure size 360x360 with 2 Axes>"
      ]
     },
     "metadata": {
      "needs_background": "light"
     },
     "output_type": "display_data"
    }
   ],
   "source": [
    "fig = plt.figure(figsize = (5,5))\n",
    "sns.heatmap(abs(df_MA8.corr()) > .8)"
   ]
  },
  {
   "cell_type": "code",
   "execution_count": 14,
   "metadata": {},
   "outputs": [
    {
     "data": {
      "text/plain": [
       "<AxesSubplot:>"
      ]
     },
     "execution_count": 14,
     "metadata": {},
     "output_type": "execute_result"
    },
    {
     "data": {
      "image/png": "[encoded data removed]",
      "text/plain": [
       "<Figure size 360x360 with 2 Axes>"
      ]
     },
     "metadata": {
      "needs_background": "light"
     },
     "output_type": "display_data"
    }
   ],
   "source": [
    "fig = plt.figure(figsize = (5,5))\n",
    "sns.heatmap(abs(df_MA9.corr()) > .8)"
   ]
  },
  {
   "cell_type": "code",
   "execution_count": 15,
   "metadata": {},
   "outputs": [
    {
     "data": {
      "text/plain": [
       "<AxesSubplot:>"
      ]
     },
     "execution_count": 15,
     "metadata": {},
     "output_type": "execute_result"
    },
    {
     "data": {
      "image/png": "[encoded data removed]",
      "text/plain": [
       "<Figure size 360x360 with 2 Axes>"
      ]
     },
     "metadata": {
      "needs_background": "light"
     },
     "output_type": "display_data"
    }
   ],
   "source": [
    "fig = plt.figure(figsize = (5,5))\n",
    "sns.heatmap(abs(df_MA10.corr()) > .8)"
   ]
  },
  {
   "cell_type": "markdown",
   "metadata": {},
   "source": [
    "# Prepare data for classification."
   ]
  },
  {
   "cell_type": "code",
   "execution_count": 16,
   "metadata": {},
   "outputs": [],
   "source": [
    "# Divide each new dataframe between variables and target. \n",
    "\n",
    "X = df.iloc[:,0:-1]\n",
    "y = df.class_label\n",
    "\n",
    "X_MA5 = df_MA5.iloc[:,0:-1]\n",
    "y_MA5 = df_MA5.class_label\n",
    "\n",
    "X_MA6 = df_MA6.iloc[:,0:-1]\n",
    "y_MA6 = df_MA6.class_label\n",
    "\n",
    "X_MA7 = df_MA7.iloc[:,0:-1]\n",
    "y_MA7 = df_MA7.class_label\n",
    "\n",
    "X_MA8 = df_MA8.iloc[:,0:-1]\n",
    "y_MA8 = df_MA8.class_label\n",
    "\n",
    "X_MA9 = df_MA9.iloc[:,0:-1]\n",
    "y_MA9 = df_MA9.class_label\n",
    "\n",
    "X_MA10 = df_MA10.iloc[:,0:-1]\n",
    "y_MA10 = df_MA10.class_label"
   ]
  },
  {
   "cell_type": "code",
   "execution_count": 17,
   "metadata": {},
   "outputs": [],
   "source": [
    "# Perform a test-train split for each dataframe.\n",
    "\n",
    "X_train_MA5, X_test_MA5, y_train_MA5, y_test_MA5 = train_test_split(X_MA5,y_MA5, \n",
    "                                                                    test_size = .2, \n",
    "                                                                    random_state = 27,\n",
    "                                                                    stratify = y_MA5)\n",
    "\n",
    "X_train_MA6, X_test_MA6, y_train_MA6, y_test_MA6 = train_test_split(X_MA6,y_MA6, \n",
    "                                                                    test_size = .2, \n",
    "                                                                    random_state = 27,\n",
    "                                                                    stratify = y_MA6)\n",
    "\n",
    "X_train_MA7, X_test_MA7, y_train_MA7, y_test_MA7 = train_test_split(X_MA7,y_MA7, \n",
    "                                                                    test_size = .2, \n",
    "                                                                    random_state = 27,\n",
    "                                                                    stratify = y_MA7)\n",
    "\n",
    "X_train_MA8, X_test_MA8, y_train_MA8, y_test_MA8 = train_test_split(X_MA8,y_MA8, \n",
    "                                                                    test_size = .2, \n",
    "                                                                    random_state = 27,\n",
    "                                                                    stratify = y_MA8)\n",
    "\n",
    "X_train_MA9, X_test_MA9, y_train_MA9, y_test_MA9 = train_test_split(X_MA9,y_MA9, \n",
    "                                                                    test_size = .2, \n",
    "                                                                    random_state = 27,\n",
    "                                                                    stratify = y_MA9)\n",
    "\n",
    "X_train_MA10, X_test_MA10, y_train_MA10, y_test_MA10 = train_test_split(X_MA10,y_MA10, \n",
    "                                                                    test_size = .2, \n",
    "                                                                    random_state = 27,\n",
    "                                                                    stratify = y_MA10)"
   ]
  },
  {
   "cell_type": "code",
   "execution_count": 18,
   "metadata": {},
   "outputs": [
    {
     "name": "stdout",
     "output_type": "stream",
     "text": [
      "Test Accuracy score:  0.5308427454387489\n",
      "Test F1 score:  0.6935300794551646\n"
     ]
    }
   ],
   "source": [
    "# Create a baseline classifier \n",
    "\n",
    "dummy = DummyClassifier(strategy='most_frequent', random_state=13).fit(X, y)\n",
    "dummy_predict = dummy.predict(X)\n",
    "\n",
    "print('Test Accuracy score: ', accuracy_score(y, dummy_predict))\n",
    "print('Test F1 score: ', f1_score(y, dummy_predict))"
   ]
  },
  {
   "cell_type": "code",
   "execution_count": 19,
   "metadata": {},
   "outputs": [],
   "source": [
    "baseline_accuracy = accuracy_score(y, dummy_predict)"
   ]
  },
  {
   "cell_type": "code",
   "execution_count": 20,
   "metadata": {},
   "outputs": [],
   "source": [
    "# Create dictionaries containing all train sets and all test sets respectively. \n",
    "\n",
    "train_sets = {'MA=.5_train':(X_train_MA5,y_train_MA5),\n",
    "              'MA=.6_train':(X_train_MA6,y_train_MA6),\n",
    "              'MA=.7_train':(X_train_MA7,y_train_MA7),\n",
    "              'MA=.8_train':(X_train_MA8,y_train_MA8),\n",
    "              'MA=.9_train':(X_train_MA9,y_train_MA9),\n",
    "              'MA=1.0_train':(X_train_MA10,y_train_MA10)}\n",
    "\n",
    "test_sets = {'MA=.5_test':(X_test_MA5,y_test_MA5),\n",
    "             'MA=.6_test':(X_test_MA6,y_test_MA6),\n",
    "             'MA=.7_test':(X_test_MA7,y_test_MA7),\n",
    "             'MA=.8_test':(X_test_MA8,y_test_MA8),\n",
    "             'MA=.9_test':(X_test_MA9,y_test_MA9),\n",
    "             'MA=1.0_test':(X_test_MA10,y_test_MA10)}"
   ]
  },
  {
   "cell_type": "code",
   "execution_count": 21,
   "metadata": {},
   "outputs": [],
   "source": [
    "# Create a column transformer object to incorporate into pipeline. This object will scale numerical values and leave\n",
    "# categorical encoded variables untouched. \n",
    "preprocess_dict = {}\n",
    "for key, val in train_sets.items():\n",
    "    numerical = list(val[0].iloc[:,2:9].columns)\n",
    "    preprocess_dict[key+'_scaled'] = make_column_transformer((StandardScaler(),numerical),\n",
    "                                                            remainder = 'passthrough')\n",
    "    \n",
    "    "
   ]
  },
  {
   "cell_type": "code",
   "execution_count": 22,
   "metadata": {},
   "outputs": [],
   "source": [
    "# For each dataframe, each keeping a different MA detection feature, perform a SVM pipeline.\n",
    "# Pipeline scales numerical features, performs a PCA and SVM classification. A Grid Search with 5-fold \n",
    "# cross validation takes the in the pipeline object to optimize the classifer trying various hyperparameters\n",
    "# and PCA components. Optimal model, best parameters, and best accuracy will be added to a dictionary. \n",
    "\n",
    "SVM_best_scores = {}\n",
    "\n",
    "for key, val in train_sets.items():\n",
    "    preprocess = preprocess_dict[key+'_scaled']\n",
    "    model = make_pipeline(preprocess, SVC())\n",
    "    params = {\n",
    "              \n",
    "              'svc__C': [.01,.01,.1,1,10,100,1000],\n",
    "              'svc__gamma':['auto',.0001,.001,.01,.1,1,10,100], \n",
    "              'svc__class_weight':['balanced',None]\n",
    "              }\n",
    "\n",
    "    search_svm = GridSearchCV(estimator = model, param_grid = params,\n",
    "                     cv = 5, return_train_score = True,\n",
    "                      n_jobs = -1)\n",
    "\n",
    "    search_svm.fit(val[0], val[1])\n",
    "    SVM_best_scores[key] = {'model':search_svm, 'best_params':search_svm.best_params_,\n",
    "                           'best_score':search_svm.best_score_}\n",
    "    "
   ]
  },
  {
   "cell_type": "code",
   "execution_count": 23,
   "metadata": {},
   "outputs": [
    {
     "name": "stdout",
     "output_type": "stream",
     "text": [
      "MA=.5_train :  0.6771739130434783\n",
      "MA=.6_train :  0.6673913043478261\n",
      "MA=.7_train :  0.6565217391304348\n",
      "MA=.8_train :  0.65\n",
      "MA=.9_train :  0.6423913043478262\n",
      "MA=1.0_train :  0.6413043478260869\n"
     ]
    }
   ],
   "source": [
    "# See which dataframe varying by MA detection feature had the best score. \n",
    "\n",
    "for key in train_sets.keys():\n",
    "    print(key, ': ',SVM_best_scores[key]['best_score'])"
   ]
  },
  {
   "cell_type": "code",
   "execution_count": 24,
   "metadata": {},
   "outputs": [
    {
     "data": {
      "text/plain": [
       "{'svc__C': 100, 'svc__class_weight': None, 'svc__gamma': 0.01}"
      ]
     },
     "execution_count": 24,
     "metadata": {},
     "output_type": "execute_result"
    }
   ],
   "source": [
    "SVM_best_scores['MA=.5_train']['best_params']"
   ]
  },
  {
   "cell_type": "code",
   "execution_count": 25,
   "metadata": {},
   "outputs": [
    {
     "name": "stdout",
     "output_type": "stream",
     "text": [
      "Random Forests\n",
      "Accuracy Score:  0.7056277056277056\n",
      "Precision Score:  0.7894736842105263\n",
      "Recall Score:  0.6097560975609756\n",
      "F1 Score:  0.6880733944954129\n"
     ]
    }
   ],
   "source": [
    "# Generate classifier metrics for this optimal classifier. \n",
    "\n",
    "y_hat_test_MA5_SVM = SVM_best_scores['MA=.5_train']['model'].predict(X_test_MA5)\n",
    "print('Random Forests')\n",
    "print('Accuracy Score: ', accuracy_score(y_test_MA5,y_hat_test_MA5_SVM))\n",
    "print('Precision Score: ', precision_score(y_test_MA5,y_hat_test_MA5_SVM))\n",
    "print('Recall Score: ', recall_score(y_test_MA5,y_hat_test_MA5_SVM))\n",
    "print('F1 Score: ',f1_score(y_test_MA5,y_hat_test_MA5_SVM))"
   ]
  },
  {
   "cell_type": "code",
   "execution_count": 26,
   "metadata": {},
   "outputs": [],
   "source": [
    "# Prepare model for ROC curve. \n",
    "\n",
    "y_scores_SVM = SVM_best_scores['MA=.5_train']['model'].decision_function(X_test_MA5)\n",
    "fpr_SVM, tpr_SVM, threshold_SVM = roc_curve(y_test_MA5, y_scores_SVM)"
   ]
  },
  {
   "cell_type": "code",
   "execution_count": 27,
   "metadata": {},
   "outputs": [
    {
     "name": "stdout",
     "output_type": "stream",
     "text": [
      "AUC: 0.7541403191809696\n"
     ]
    },
    {
     "data": {
      "image/png": "[encoded data removed]",
      "text/plain": [
       "<Figure size 720x576 with 1 Axes>"
      ]
     },
     "metadata": {},
     "output_type": "display_data"
    }
   ],
   "source": [
    "# Generate ROC curve. \n",
    "\n",
    "sns.set_style(\"darkgrid\", {\"axes.facecolor\": \".9\"})\n",
    "\n",
    "print('AUC: {}'.format(auc(fpr_SVM, tpr_SVM)))\n",
    "plt.figure(figsize=(10,8))\n",
    "lw = 2\n",
    "plt.plot(fpr_SVM, tpr_SVM, color='darkorange',\n",
    "         lw=lw, label='ROC curve')\n",
    "plt.plot([0, 1], [0, 1], color='navy', lw=lw, linestyle='--')\n",
    "plt.xlim([0.0, 1.0])\n",
    "plt.ylim([0.0, 1.05])\n",
    "plt.yticks([i/20.0 for i in range(21)])\n",
    "plt.xticks([i/20.0 for i in range(21)])\n",
    "plt.xlabel('False Positive Rate')\n",
    "plt.ylabel('True Positive Rate')\n",
    "plt.title('Receiver operating characteristic (ROC) Curve')\n",
    "plt.legend(loc=\"lower right\")\n",
    "plt.show()"
   ]
  },
  {
   "cell_type": "code",
   "execution_count": null,
   "metadata": {},
   "outputs": [],
   "source": []
  }
 ],
 "metadata": {
  "kernelspec": {
   "display_name": "Python 3.10.5 64-bit",
   "language": "python",
   "name": "python3"
  },
  "language_info": {
   "codemirror_mode": {
    "name": "ipython",
    "version": 3
   },
   "file_extension": ".py",
   "mimetype": "text/x-python",
   "name": "python",
   "nbconvert_exporter": "python",
   "pygments_lexer": "ipython3",
   "version": "3.10.5"
  },
  "vscode": {
   "interpreter": {
    "hash": "93028d5495cf3fdad3791cfb45569ed1ffef5b94a8e8037ba1bdda77d837769f"
   }
  }
 },
 "nbformat": 4,
 "nbformat_minor": 2
}
